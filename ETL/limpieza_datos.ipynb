{
 "cells": [
  {
   "attachments": {},
   "cell_type": "markdown",
   "metadata": {},
   "source": [
    "# PROCESO DE ETL DEL DATASET movies_dataset.csv"
   ]
  },
  {
   "cell_type": "code",
   "execution_count": 1,
   "metadata": {},
   "outputs": [],
   "source": [
    "#cargamos nuestras librerías que necitaremos\n",
    "import pandas as pd\n",
    "import ast\n",
    "import numpy as np\n",
    "from pandas.io.json import json_normalize\n"
   ]
  },
  {
   "cell_type": "code",
   "execution_count": 19,
   "metadata": {},
   "outputs": [
    {
     "name": "stderr",
     "output_type": "stream",
     "text": [
      "C:\\Users\\Ricky Quinteros\\AppData\\Local\\Temp\\ipykernel_15576\\2694318523.py:2: FutureWarning: Inferring datetime64[ns] from data containing strings is deprecated and will be removed in a future version. To retain the old behavior explicitly pass Series(data, dtype=datetime64[ns])\n",
      "  df1 = pd.read_excel('..\\datasets_crudos\\movies_dataset.xlsx')\n",
      "C:\\Users\\Ricky Quinteros\\AppData\\Local\\Temp\\ipykernel_15576\\2694318523.py:3: FutureWarning: Inferring datetime64[ns] from data containing strings is deprecated and will be removed in a future version. To retain the old behavior explicitly pass Series(data, dtype=datetime64[ns])\n",
      "  df2 = pd.read_excel('..\\datasets_crudos\\movies_dataset (1).xlsx')\n"
     ]
    }
   ],
   "source": [
    "# Cargar los datos de ambos archivos Excel\n",
    "df1 = pd.read_excel('..\\datasets_crudos\\movies_dataset.xlsx')\n",
    "df2 = pd.read_excel('..\\datasets_crudos\\movies_dataset (1).xlsx')\n",
    "\n"
   ]
  },
  {
   "cell_type": "code",
   "execution_count": 20,
   "metadata": {},
   "outputs": [
    {
     "name": "stdout",
     "output_type": "stream",
     "text": [
      "Los archivos tienen el mismo contenido\n"
     ]
    }
   ],
   "source": [
    "# Comparar los datos en ambos dataframes\n",
    "if df1.equals(df2):\n",
    "    print(\"Los archivos tienen el mismo contenido\")\n",
    "else:\n",
    "    print(\"Los archivos tienen contenido diferente\")"
   ]
  },
  {
   "cell_type": "code",
   "execution_count": 24,
   "metadata": {},
   "outputs": [
    {
     "name": "stdout",
     "output_type": "stream",
     "text": [
      "Se ha guardado df1 como un archivo CSV en datasets_crudos_csv.\n"
     ]
    }
   ],
   "source": [
    "#Al tener los dataframes el mismo contenido, guardamos uno a tipo csv\n",
    "df1.to_csv('../datasets_crudos_CSV/movies_dataset_crudo.csv', index=False)\n",
    "print(\"Se ha guardado df1 como un archivo CSV en datasets_crudos_csv.\")"
   ]
  },
  {
   "cell_type": "code",
   "execution_count": 26,
   "metadata": {},
   "outputs": [
    {
     "name": "stderr",
     "output_type": "stream",
     "text": [
      "C:\\Users\\Ricky Quinteros\\AppData\\Local\\Temp\\ipykernel_15576\\2023090911.py:4: DtypeWarning: Columns (10) have mixed types. Specify dtype option on import or set low_memory=False.\n",
      "  dfx = pd.read_csv('..\\datasets_crudos_CSV\\movies_dataset_crudo.csv')\n",
      "C:\\Users\\Ricky Quinteros\\AppData\\Local\\Temp\\ipykernel_15576\\2023090911.py:5: DtypeWarning: Columns (10) have mixed types. Specify dtype option on import or set low_memory=False.\n",
      "  dfy = pd.read_csv('..\\datasets_crudos_CSV\\movies_dataset.csv')\n"
     ]
    }
   ],
   "source": [
    "'''En nuestra carpeta Datasets_crudos_csv verificamos que tenemos 2 archivos que pueden ser\n",
    "que tenga la misma cantidad, vamos a averiguar si eso es cierto para descartar con cual dataset vamos a trabajar,\n",
    "vamos a cargar nuestros datos y despues haremos la comparación'''\n",
    "dfx = pd.read_csv('..\\datasets_crudos_CSV\\movies_dataset_crudo.csv')\n",
    "dfy = pd.read_csv('..\\datasets_crudos_CSV\\movies_dataset.csv')"
   ]
  },
  {
   "cell_type": "code",
   "execution_count": 27,
   "metadata": {},
   "outputs": [
    {
     "name": "stdout",
     "output_type": "stream",
     "text": [
      "Los archivos tienen contenido diferente\n"
     ]
    }
   ],
   "source": [
    "#comparamos ambos datasets si contienen el mismo contenido\n",
    "if dfx.equals(dfy):\n",
    "    print(\"Los archivos tienen el mismo contenido\")\n",
    "else:\n",
    "    print(\"Los archivos tienen contenido diferente\")"
   ]
  },
  {
   "attachments": {},
   "cell_type": "markdown",
   "metadata": {},
   "source": [
    "## Cargamos nuestro dataset en un dataframe de pandas para empezar el proceso de limpieza"
   ]
  },
  {
   "cell_type": "code",
   "execution_count": 2,
   "metadata": {},
   "outputs": [
    {
     "data": {
      "text/html": [
       "<div>\n",
       "<style scoped>\n",
       "    .dataframe tbody tr th:only-of-type {\n",
       "        vertical-align: middle;\n",
       "    }\n",
       "\n",
       "    .dataframe tbody tr th {\n",
       "        vertical-align: top;\n",
       "    }\n",
       "\n",
       "    .dataframe thead th {\n",
       "        text-align: right;\n",
       "    }\n",
       "</style>\n",
       "<table border=\"1\" class=\"dataframe\">\n",
       "  <thead>\n",
       "    <tr style=\"text-align: right;\">\n",
       "      <th></th>\n",
       "      <th>belongs_to_collection</th>\n",
       "      <th>id</th>\n",
       "    </tr>\n",
       "  </thead>\n",
       "  <tbody>\n",
       "    <tr>\n",
       "      <th>0</th>\n",
       "      <td>{'id': 10194, 'name': 'Toy Story Collection', ...</td>\n",
       "      <td>862</td>\n",
       "    </tr>\n",
       "    <tr>\n",
       "      <th>1</th>\n",
       "      <td>NaN</td>\n",
       "      <td>8844</td>\n",
       "    </tr>\n",
       "    <tr>\n",
       "      <th>2</th>\n",
       "      <td>{'id': 119050, 'name': 'Grumpy Old Men Collect...</td>\n",
       "      <td>15602</td>\n",
       "    </tr>\n",
       "    <tr>\n",
       "      <th>3</th>\n",
       "      <td>NaN</td>\n",
       "      <td>31357</td>\n",
       "    </tr>\n",
       "    <tr>\n",
       "      <th>4</th>\n",
       "      <td>{'id': 96871, 'name': 'Father of the Bride Col...</td>\n",
       "      <td>11862</td>\n",
       "    </tr>\n",
       "  </tbody>\n",
       "</table>\n",
       "</div>"
      ],
      "text/plain": [
       "                               belongs_to_collection     id\n",
       "0  {'id': 10194, 'name': 'Toy Story Collection', ...    862\n",
       "1                                                NaN   8844\n",
       "2  {'id': 119050, 'name': 'Grumpy Old Men Collect...  15602\n",
       "3                                                NaN  31357\n",
       "4  {'id': 96871, 'name': 'Father of the Bride Col...  11862"
      ]
     },
     "execution_count": 2,
     "metadata": {},
     "output_type": "execute_result"
    }
   ],
   "source": [
    "'''Ahora que hemos verificado que los datos contienen contenido diferente, vamos a proceder\n",
    "a explorar el contenido de los datos para proceder a realizar la limpieza\n",
    "1.Primero el data de movies_dataser.csv'''\n",
    "df_movies = pd.read_csv('..\\datasets_crudos_CSV\\movies_and_belong.csv')\n",
    "df_movies.head()"
   ]
  },
  {
   "cell_type": "code",
   "execution_count": 3,
   "metadata": {},
   "outputs": [],
   "source": [
    "'''Observamos que hay algunas columnas anidadas, asi que vamos a crear\n",
    "una iteración para identificar esas columnas'''\n",
    "\n",
    "nested_columns = ['belongs_to_collection', 'genres', 'spoken_languages', 'production_companies', 'production_countries']\n",
    "\n"
   ]
  },
  {
   "cell_type": "code",
   "execution_count": 4,
   "metadata": {},
   "outputs": [],
   "source": [
    "df_movies =df_movies.rename(columns={'id': 'movies_id'})  # Renombrar la columna 'id' a 'movies_id'\n"
   ]
  },
  {
   "cell_type": "code",
   "execution_count": 5,
   "metadata": {},
   "outputs": [
    {
     "data": {
      "text/html": [
       "<div>\n",
       "<style scoped>\n",
       "    .dataframe tbody tr th:only-of-type {\n",
       "        vertical-align: middle;\n",
       "    }\n",
       "\n",
       "    .dataframe tbody tr th {\n",
       "        vertical-align: top;\n",
       "    }\n",
       "\n",
       "    .dataframe thead th {\n",
       "        text-align: right;\n",
       "    }\n",
       "</style>\n",
       "<table border=\"1\" class=\"dataframe\">\n",
       "  <thead>\n",
       "    <tr style=\"text-align: right;\">\n",
       "      <th></th>\n",
       "      <th>belongs_to_collection</th>\n",
       "      <th>movies_id</th>\n",
       "    </tr>\n",
       "  </thead>\n",
       "  <tbody>\n",
       "    <tr>\n",
       "      <th>0</th>\n",
       "      <td>{'id': 10194, 'name': 'Toy Story Collection', ...</td>\n",
       "      <td>862</td>\n",
       "    </tr>\n",
       "    <tr>\n",
       "      <th>1</th>\n",
       "      <td>NaN</td>\n",
       "      <td>8844</td>\n",
       "    </tr>\n",
       "  </tbody>\n",
       "</table>\n",
       "</div>"
      ],
      "text/plain": [
       "                               belongs_to_collection movies_id\n",
       "0  {'id': 10194, 'name': 'Toy Story Collection', ...       862\n",
       "1                                                NaN      8844"
      ]
     },
     "execution_count": 5,
     "metadata": {},
     "output_type": "execute_result"
    }
   ],
   "source": [
    "df_movies.head(2)"
   ]
  },
  {
   "cell_type": "code",
   "execution_count": 6,
   "metadata": {},
   "outputs": [
    {
     "name": "stdout",
     "output_type": "stream",
     "text": [
      "belongs_to_collection    40972\n",
      "movies_id                    0\n",
      "dtype: int64\n"
     ]
    }
   ],
   "source": [
    "null_counts = df_movies.isnull().sum()\n",
    "print(null_counts)\n"
   ]
  },
  {
   "cell_type": "code",
   "execution_count": 7,
   "metadata": {},
   "outputs": [
    {
     "name": "stdout",
     "output_type": "stream",
     "text": [
      "object\n"
     ]
    }
   ],
   "source": [
    "data_type = df_movies['movies_id'].dtypes\n",
    "print(data_type)\n"
   ]
  },
  {
   "cell_type": "code",
   "execution_count": 8,
   "metadata": {},
   "outputs": [],
   "source": [
    "'''creamos una función para extraer todos los datos de la lista \n",
    "de diccionarios de la columna belong_to_collection, para luego\n",
    "separarlos en un dataframe aparte'''\n",
    "def desanidar_belongs_to_collection(row):\n",
    "    try:\n",
    "        collection_dict = ast.literal_eval(row)\n",
    "        if isinstance(collection_dict, dict):\n",
    "            return (\n",
    "                collection_dict.get('id'),\n",
    "                collection_dict.get('name'),\n",
    "                collection_dict.get('poster_path'),\n",
    "                collection_dict.get('backdrop_path')\n",
    "            )\n",
    "    except (ValueError, SyntaxError):\n",
    "        pass\n",
    "    return (np.nan, np.nan, np.nan, np.nan)\n",
    "\n"
   ]
  },
  {
   "cell_type": "code",
   "execution_count": 9,
   "metadata": {},
   "outputs": [],
   "source": [
    "df_movies[['collection_id', 'collection_name', 'collection_poster_path', 'collection_backdrop_path']] = df_movies['belongs_to_collection'].apply(desanidar_belongs_to_collection).apply(pd.Series)\n"
   ]
  },
  {
   "cell_type": "code",
   "execution_count": 10,
   "metadata": {},
   "outputs": [],
   "source": [
    "df_movies = df_movies.drop('belongs_to_collection', axis=1)\n"
   ]
  },
  {
   "cell_type": "code",
   "execution_count": 11,
   "metadata": {},
   "outputs": [
    {
     "data": {
      "text/html": [
       "<div>\n",
       "<style scoped>\n",
       "    .dataframe tbody tr th:only-of-type {\n",
       "        vertical-align: middle;\n",
       "    }\n",
       "\n",
       "    .dataframe tbody tr th {\n",
       "        vertical-align: top;\n",
       "    }\n",
       "\n",
       "    .dataframe thead th {\n",
       "        text-align: right;\n",
       "    }\n",
       "</style>\n",
       "<table border=\"1\" class=\"dataframe\">\n",
       "  <thead>\n",
       "    <tr style=\"text-align: right;\">\n",
       "      <th></th>\n",
       "      <th>movies_id</th>\n",
       "      <th>collection_id</th>\n",
       "      <th>collection_name</th>\n",
       "      <th>collection_poster_path</th>\n",
       "      <th>collection_backdrop_path</th>\n",
       "    </tr>\n",
       "  </thead>\n",
       "  <tbody>\n",
       "    <tr>\n",
       "      <th>0</th>\n",
       "      <td>862</td>\n",
       "      <td>10194.0</td>\n",
       "      <td>Toy Story Collection</td>\n",
       "      <td>/7G9915LfUQ2lVfwMEEhDsn3kT4B.jpg</td>\n",
       "      <td>/9FBwqcd9IRruEDUrTdcaafOMKUq.jpg</td>\n",
       "    </tr>\n",
       "    <tr>\n",
       "      <th>1</th>\n",
       "      <td>8844</td>\n",
       "      <td>NaN</td>\n",
       "      <td>NaN</td>\n",
       "      <td>NaN</td>\n",
       "      <td>NaN</td>\n",
       "    </tr>\n",
       "  </tbody>\n",
       "</table>\n",
       "</div>"
      ],
      "text/plain": [
       "  movies_id  collection_id       collection_name  \\\n",
       "0       862        10194.0  Toy Story Collection   \n",
       "1      8844            NaN                   NaN   \n",
       "\n",
       "             collection_poster_path          collection_backdrop_path  \n",
       "0  /7G9915LfUQ2lVfwMEEhDsn3kT4B.jpg  /9FBwqcd9IRruEDUrTdcaafOMKUq.jpg  \n",
       "1                               NaN                               NaN  "
      ]
     },
     "execution_count": 11,
     "metadata": {},
     "output_type": "execute_result"
    }
   ],
   "source": [
    "df_movies.head(2)"
   ]
  },
  {
   "cell_type": "code",
   "execution_count": 12,
   "metadata": {},
   "outputs": [
    {
     "name": "stdout",
     "output_type": "stream",
     "text": [
      "movies_id                       0\n",
      "collection_id               40975\n",
      "collection_name             40975\n",
      "collection_poster_path      41518\n",
      "collection_backdrop_path    42203\n",
      "dtype: int64\n"
     ]
    }
   ],
   "source": [
    "null_counts = df_movies.isnull().sum()\n",
    "print(null_counts)\n"
   ]
  },
  {
   "cell_type": "code",
   "execution_count": 13,
   "metadata": {},
   "outputs": [],
   "source": [
    "movies_with_names = df_movies.loc[~df_movies['collection_name'].isnull(), ['movies_id', 'collection_id', 'collection_name']]\n"
   ]
  },
  {
   "cell_type": "code",
   "execution_count": 14,
   "metadata": {},
   "outputs": [],
   "source": [
    "movies_with_names_unique = movies_with_names.drop_duplicates()\n"
   ]
  },
  {
   "cell_type": "code",
   "execution_count": 15,
   "metadata": {},
   "outputs": [
    {
     "name": "stdout",
     "output_type": "stream",
     "text": [
      "      movies_id  collection_id                 collection_name\n",
      "0           862        10194.0            Toy Story Collection\n",
      "2         15602       119050.0       Grumpy Old Men Collection\n",
      "4         11862        96871.0  Father of the Bride Collection\n",
      "9           710          645.0           James Bond Collection\n",
      "12        21032       117693.0                Balto Collection\n",
      "...         ...            ...                             ...\n",
      "45355     24568        37261.0         The Carry On Collection\n",
      "45358     19307        37261.0         The Carry On Collection\n",
      "45369     21251        37261.0         The Carry On Collection\n",
      "45371    460135       477208.0  DC Super Hero Girls Collection\n",
      "45382    182030       200641.0            Red Lotus Collection\n",
      "\n",
      "[4488 rows x 3 columns]\n"
     ]
    }
   ],
   "source": [
    "print(movies_with_names_unique)\n",
    "\n"
   ]
  },
  {
   "cell_type": "code",
   "execution_count": 16,
   "metadata": {},
   "outputs": [],
   "source": [
    "def buscar_por_id(id):\n",
    "    return df_movies[df_movies['movies_id'] == id]\n"
   ]
  },
  {
   "cell_type": "code",
   "execution_count": 17,
   "metadata": {},
   "outputs": [
    {
     "name": "stdout",
     "output_type": "stream",
     "text": [
      "Empty DataFrame\n",
      "Columns: [movies_id, collection_id, collection_name, collection_poster_path, collection_backdrop_path]\n",
      "Index: []\n"
     ]
    }
   ],
   "source": [
    "resultado = buscar_por_id(19307)\n",
    "print(resultado)"
   ]
  },
  {
   "cell_type": "code",
   "execution_count": 18,
   "metadata": {},
   "outputs": [],
   "source": [
    "#guardamos nuestro nuevo dataset con el nombre de df_btc\n",
    "movies_with_names_unique.to_csv('..\\datasets_crudos_CSV\\df_btc.csv', index=False)\n"
   ]
  },
  {
   "attachments": {},
   "cell_type": "markdown",
   "metadata": {},
   "source": [
    "## Desanidamos la conlumna genres"
   ]
  },
  {
   "cell_type": "code",
   "execution_count": 19,
   "metadata": {},
   "outputs": [],
   "source": [
    "##cargamos nuestros datos\n",
    "genres_desanidados = pd.read_csv('..\\datasets_crudos_CSV\\movies_and_genres.csv')"
   ]
  },
  {
   "cell_type": "code",
   "execution_count": 20,
   "metadata": {},
   "outputs": [
    {
     "data": {
      "text/html": [
       "<div>\n",
       "<style scoped>\n",
       "    .dataframe tbody tr th:only-of-type {\n",
       "        vertical-align: middle;\n",
       "    }\n",
       "\n",
       "    .dataframe tbody tr th {\n",
       "        vertical-align: top;\n",
       "    }\n",
       "\n",
       "    .dataframe thead th {\n",
       "        text-align: right;\n",
       "    }\n",
       "</style>\n",
       "<table border=\"1\" class=\"dataframe\">\n",
       "  <thead>\n",
       "    <tr style=\"text-align: right;\">\n",
       "      <th></th>\n",
       "      <th>genres</th>\n",
       "      <th>id</th>\n",
       "      <th>Unnamed: 2</th>\n",
       "      <th>Unnamed: 3</th>\n",
       "      <th>Unnamed: 4</th>\n",
       "    </tr>\n",
       "  </thead>\n",
       "  <tbody>\n",
       "    <tr>\n",
       "      <th>0</th>\n",
       "      <td>[{'id': 16, 'name': 'Animation'}, {'id': 35, '...</td>\n",
       "      <td>862</td>\n",
       "      <td>NaN</td>\n",
       "      <td>NaN</td>\n",
       "      <td>NaN</td>\n",
       "    </tr>\n",
       "    <tr>\n",
       "      <th>1</th>\n",
       "      <td>[{'id': 12, 'name': 'Adventure'}, {'id': 14, '...</td>\n",
       "      <td>8844</td>\n",
       "      <td>NaN</td>\n",
       "      <td>NaN</td>\n",
       "      <td>NaN</td>\n",
       "    </tr>\n",
       "    <tr>\n",
       "      <th>2</th>\n",
       "      <td>[{'id': 10749, 'name': 'Romance'}, {'id': 35, ...</td>\n",
       "      <td>15602</td>\n",
       "      <td>NaN</td>\n",
       "      <td>NaN</td>\n",
       "      <td>NaN</td>\n",
       "    </tr>\n",
       "    <tr>\n",
       "      <th>3</th>\n",
       "      <td>[{'id': 35, 'name': 'Comedy'}, {'id': 18, 'nam...</td>\n",
       "      <td>31357</td>\n",
       "      <td>NaN</td>\n",
       "      <td>NaN</td>\n",
       "      <td>NaN</td>\n",
       "    </tr>\n",
       "    <tr>\n",
       "      <th>4</th>\n",
       "      <td>[{'id': 35, 'name': 'Comedy'}]</td>\n",
       "      <td>11862</td>\n",
       "      <td>NaN</td>\n",
       "      <td>NaN</td>\n",
       "      <td>NaN</td>\n",
       "    </tr>\n",
       "  </tbody>\n",
       "</table>\n",
       "</div>"
      ],
      "text/plain": [
       "                                              genres     id Unnamed: 2  \\\n",
       "0  [{'id': 16, 'name': 'Animation'}, {'id': 35, '...    862        NaN   \n",
       "1  [{'id': 12, 'name': 'Adventure'}, {'id': 14, '...   8844        NaN   \n",
       "2  [{'id': 10749, 'name': 'Romance'}, {'id': 35, ...  15602        NaN   \n",
       "3  [{'id': 35, 'name': 'Comedy'}, {'id': 18, 'nam...  31357        NaN   \n",
       "4                     [{'id': 35, 'name': 'Comedy'}]  11862        NaN   \n",
       "\n",
       "   Unnamed: 3  Unnamed: 4  \n",
       "0         NaN         NaN  \n",
       "1         NaN         NaN  \n",
       "2         NaN         NaN  \n",
       "3         NaN         NaN  \n",
       "4         NaN         NaN  "
      ]
     },
     "execution_count": 20,
     "metadata": {},
     "output_type": "execute_result"
    }
   ],
   "source": [
    "genres_desanidados.head()"
   ]
  },
  {
   "cell_type": "code",
   "execution_count": 21,
   "metadata": {},
   "outputs": [],
   "source": [
    "genres_desanidados =genres_desanidados.rename(columns={'id': 'movies_id'}) "
   ]
  },
  {
   "cell_type": "code",
   "execution_count": 22,
   "metadata": {},
   "outputs": [
    {
     "name": "stdout",
     "output_type": "stream",
     "text": [
      "object\n"
     ]
    }
   ],
   "source": [
    "data_type = genres_desanidados['movies_id'].dtypes\n",
    "print(data_type)"
   ]
  },
  {
   "cell_type": "code",
   "execution_count": 23,
   "metadata": {},
   "outputs": [
    {
     "data": {
      "text/html": [
       "<div>\n",
       "<style scoped>\n",
       "    .dataframe tbody tr th:only-of-type {\n",
       "        vertical-align: middle;\n",
       "    }\n",
       "\n",
       "    .dataframe tbody tr th {\n",
       "        vertical-align: top;\n",
       "    }\n",
       "\n",
       "    .dataframe thead th {\n",
       "        text-align: right;\n",
       "    }\n",
       "</style>\n",
       "<table border=\"1\" class=\"dataframe\">\n",
       "  <thead>\n",
       "    <tr style=\"text-align: right;\">\n",
       "      <th></th>\n",
       "      <th>genres</th>\n",
       "      <th>movies_id</th>\n",
       "      <th>Unnamed: 2</th>\n",
       "      <th>Unnamed: 3</th>\n",
       "      <th>Unnamed: 4</th>\n",
       "    </tr>\n",
       "  </thead>\n",
       "  <tbody>\n",
       "    <tr>\n",
       "      <th>0</th>\n",
       "      <td>[{'id': 16, 'name': 'Animation'}, {'id': 35, '...</td>\n",
       "      <td>862</td>\n",
       "      <td>NaN</td>\n",
       "      <td>NaN</td>\n",
       "      <td>NaN</td>\n",
       "    </tr>\n",
       "    <tr>\n",
       "      <th>1</th>\n",
       "      <td>[{'id': 12, 'name': 'Adventure'}, {'id': 14, '...</td>\n",
       "      <td>8844</td>\n",
       "      <td>NaN</td>\n",
       "      <td>NaN</td>\n",
       "      <td>NaN</td>\n",
       "    </tr>\n",
       "  </tbody>\n",
       "</table>\n",
       "</div>"
      ],
      "text/plain": [
       "                                              genres movies_id Unnamed: 2  \\\n",
       "0  [{'id': 16, 'name': 'Animation'}, {'id': 35, '...       862        NaN   \n",
       "1  [{'id': 12, 'name': 'Adventure'}, {'id': 14, '...      8844        NaN   \n",
       "\n",
       "   Unnamed: 3  Unnamed: 4  \n",
       "0         NaN         NaN  \n",
       "1         NaN         NaN  "
      ]
     },
     "execution_count": 23,
     "metadata": {},
     "output_type": "execute_result"
    }
   ],
   "source": [
    "genres_desanidados.head(2)"
   ]
  },
  {
   "cell_type": "code",
   "execution_count": 24,
   "metadata": {},
   "outputs": [],
   "source": [
    "columns_to_drop = ['Unnamed: 2', 'Unnamed: 3', 'Unnamed: 4']\n",
    "genres_desanidados = genres_desanidados.drop(columns=columns_to_drop)\n"
   ]
  },
  {
   "cell_type": "code",
   "execution_count": 25,
   "metadata": {},
   "outputs": [
    {
     "data": {
      "text/html": [
       "<div>\n",
       "<style scoped>\n",
       "    .dataframe tbody tr th:only-of-type {\n",
       "        vertical-align: middle;\n",
       "    }\n",
       "\n",
       "    .dataframe tbody tr th {\n",
       "        vertical-align: top;\n",
       "    }\n",
       "\n",
       "    .dataframe thead th {\n",
       "        text-align: right;\n",
       "    }\n",
       "</style>\n",
       "<table border=\"1\" class=\"dataframe\">\n",
       "  <thead>\n",
       "    <tr style=\"text-align: right;\">\n",
       "      <th></th>\n",
       "      <th>genres</th>\n",
       "      <th>movies_id</th>\n",
       "    </tr>\n",
       "  </thead>\n",
       "  <tbody>\n",
       "    <tr>\n",
       "      <th>0</th>\n",
       "      <td>[{'id': 16, 'name': 'Animation'}, {'id': 35, '...</td>\n",
       "      <td>862</td>\n",
       "    </tr>\n",
       "    <tr>\n",
       "      <th>1</th>\n",
       "      <td>[{'id': 12, 'name': 'Adventure'}, {'id': 14, '...</td>\n",
       "      <td>8844</td>\n",
       "    </tr>\n",
       "  </tbody>\n",
       "</table>\n",
       "</div>"
      ],
      "text/plain": [
       "                                              genres movies_id\n",
       "0  [{'id': 16, 'name': 'Animation'}, {'id': 35, '...       862\n",
       "1  [{'id': 12, 'name': 'Adventure'}, {'id': 14, '...      8844"
      ]
     },
     "execution_count": 25,
     "metadata": {},
     "output_type": "execute_result"
    }
   ],
   "source": [
    "genres_desanidados.head(2)"
   ]
  },
  {
   "cell_type": "code",
   "execution_count": 26,
   "metadata": {},
   "outputs": [],
   "source": [
    "#cargamos solo los datos que vamos a usar y trabajar\n",
    "genres_desanidados = genres_desanidados[['genres', 'movies_id']]\n"
   ]
  },
  {
   "cell_type": "code",
   "execution_count": 27,
   "metadata": {},
   "outputs": [
    {
     "data": {
      "text/html": [
       "<div>\n",
       "<style scoped>\n",
       "    .dataframe tbody tr th:only-of-type {\n",
       "        vertical-align: middle;\n",
       "    }\n",
       "\n",
       "    .dataframe tbody tr th {\n",
       "        vertical-align: top;\n",
       "    }\n",
       "\n",
       "    .dataframe thead th {\n",
       "        text-align: right;\n",
       "    }\n",
       "</style>\n",
       "<table border=\"1\" class=\"dataframe\">\n",
       "  <thead>\n",
       "    <tr style=\"text-align: right;\">\n",
       "      <th></th>\n",
       "      <th>genres</th>\n",
       "      <th>movies_id</th>\n",
       "    </tr>\n",
       "  </thead>\n",
       "  <tbody>\n",
       "    <tr>\n",
       "      <th>0</th>\n",
       "      <td>[{'id': 16, 'name': 'Animation'}, {'id': 35, '...</td>\n",
       "      <td>862</td>\n",
       "    </tr>\n",
       "    <tr>\n",
       "      <th>1</th>\n",
       "      <td>[{'id': 12, 'name': 'Adventure'}, {'id': 14, '...</td>\n",
       "      <td>8844</td>\n",
       "    </tr>\n",
       "    <tr>\n",
       "      <th>2</th>\n",
       "      <td>[{'id': 10749, 'name': 'Romance'}, {'id': 35, ...</td>\n",
       "      <td>15602</td>\n",
       "    </tr>\n",
       "  </tbody>\n",
       "</table>\n",
       "</div>"
      ],
      "text/plain": [
       "                                              genres movies_id\n",
       "0  [{'id': 16, 'name': 'Animation'}, {'id': 35, '...       862\n",
       "1  [{'id': 12, 'name': 'Adventure'}, {'id': 14, '...      8844\n",
       "2  [{'id': 10749, 'name': 'Romance'}, {'id': 35, ...     15602"
      ]
     },
     "execution_count": 27,
     "metadata": {},
     "output_type": "execute_result"
    }
   ],
   "source": [
    "genres_desanidados.head(3)"
   ]
  },
  {
   "cell_type": "code",
   "execution_count": 28,
   "metadata": {},
   "outputs": [],
   "source": [
    "\n",
    "\n",
    "# Definir función para extraer los valores de la columna \"genres\"\n",
    "def desanidar_genres(row):\n",
    "    genres_list = ast.literal_eval(row)  # Convertir la cadena a una lista de diccionarios\n",
    "    genres_dict = {}  # Diccionario para almacenar los géneros únicos\n",
    "    for genre in genres_list:\n",
    "        genre_id = genre['id']\n",
    "        genre_name = genre['name']\n",
    "        # Agregar el género al diccionario si aún no existe\n",
    "        if genre_id not in genres_dict:\n",
    "            genres_dict[genre_id] = genre_name\n",
    "    # Crear una lista de géneros ordenada alfabéticamente\n",
    "    genres = sorted(genres_dict.values())\n",
    "    return genres\n"
   ]
  },
  {
   "cell_type": "code",
   "execution_count": 29,
   "metadata": {},
   "outputs": [],
   "source": [
    "# Aplicar la función a la columna \"genres\"\n",
    "genres_desanidados['genres'] = genres_desanidados['genres'].apply(desanidar_genres)"
   ]
  },
  {
   "cell_type": "code",
   "execution_count": 30,
   "metadata": {},
   "outputs": [
    {
     "data": {
      "text/html": [
       "<div>\n",
       "<style scoped>\n",
       "    .dataframe tbody tr th:only-of-type {\n",
       "        vertical-align: middle;\n",
       "    }\n",
       "\n",
       "    .dataframe tbody tr th {\n",
       "        vertical-align: top;\n",
       "    }\n",
       "\n",
       "    .dataframe thead th {\n",
       "        text-align: right;\n",
       "    }\n",
       "</style>\n",
       "<table border=\"1\" class=\"dataframe\">\n",
       "  <thead>\n",
       "    <tr style=\"text-align: right;\">\n",
       "      <th></th>\n",
       "      <th>genres</th>\n",
       "      <th>movies_id</th>\n",
       "    </tr>\n",
       "  </thead>\n",
       "  <tbody>\n",
       "    <tr>\n",
       "      <th>0</th>\n",
       "      <td>[Animation, Comedy, Family]</td>\n",
       "      <td>862</td>\n",
       "    </tr>\n",
       "    <tr>\n",
       "      <th>1</th>\n",
       "      <td>[Adventure, Family, Fantasy]</td>\n",
       "      <td>8844</td>\n",
       "    </tr>\n",
       "    <tr>\n",
       "      <th>2</th>\n",
       "      <td>[Comedy, Romance]</td>\n",
       "      <td>15602</td>\n",
       "    </tr>\n",
       "    <tr>\n",
       "      <th>3</th>\n",
       "      <td>[Comedy, Drama, Romance]</td>\n",
       "      <td>31357</td>\n",
       "    </tr>\n",
       "    <tr>\n",
       "      <th>4</th>\n",
       "      <td>[Comedy]</td>\n",
       "      <td>11862</td>\n",
       "    </tr>\n",
       "  </tbody>\n",
       "</table>\n",
       "</div>"
      ],
      "text/plain": [
       "                         genres movies_id\n",
       "0   [Animation, Comedy, Family]       862\n",
       "1  [Adventure, Family, Fantasy]      8844\n",
       "2             [Comedy, Romance]     15602\n",
       "3      [Comedy, Drama, Romance]     31357\n",
       "4                      [Comedy]     11862"
      ]
     },
     "execution_count": 30,
     "metadata": {},
     "output_type": "execute_result"
    }
   ],
   "source": [
    "genres_desanidados.head()"
   ]
  },
  {
   "cell_type": "code",
   "execution_count": 31,
   "metadata": {},
   "outputs": [],
   "source": [
    "#guardamos nuestro nuevo dataset con el nombre de df_genres.csv\n",
    "genres_desanidados.to_csv('..\\datasets_crudos_CSV\\df_genres.csv', index=False)"
   ]
  },
  {
   "attachments": {},
   "cell_type": "markdown",
   "metadata": {},
   "source": [
    "## Desanidamos la columna spoken_languages"
   ]
  },
  {
   "cell_type": "code",
   "execution_count": 32,
   "metadata": {},
   "outputs": [],
   "source": [
    "languages = pd.read_csv('..\\datasets_crudos_CSV\\movies_languages.csv')"
   ]
  },
  {
   "cell_type": "code",
   "execution_count": 33,
   "metadata": {},
   "outputs": [],
   "source": [
    "languages = languages.rename(columns={'id': 'movies_id'}) "
   ]
  },
  {
   "cell_type": "code",
   "execution_count": 34,
   "metadata": {},
   "outputs": [
    {
     "data": {
      "text/html": [
       "<div>\n",
       "<style scoped>\n",
       "    .dataframe tbody tr th:only-of-type {\n",
       "        vertical-align: middle;\n",
       "    }\n",
       "\n",
       "    .dataframe tbody tr th {\n",
       "        vertical-align: top;\n",
       "    }\n",
       "\n",
       "    .dataframe thead th {\n",
       "        text-align: right;\n",
       "    }\n",
       "</style>\n",
       "<table border=\"1\" class=\"dataframe\">\n",
       "  <thead>\n",
       "    <tr style=\"text-align: right;\">\n",
       "      <th></th>\n",
       "      <th>movies_id</th>\n",
       "      <th>spoken_languages</th>\n",
       "    </tr>\n",
       "  </thead>\n",
       "  <tbody>\n",
       "    <tr>\n",
       "      <th>0</th>\n",
       "      <td>862</td>\n",
       "      <td>[{'iso_639_1': 'en', 'name': 'English'}]</td>\n",
       "    </tr>\n",
       "    <tr>\n",
       "      <th>1</th>\n",
       "      <td>8844</td>\n",
       "      <td>[{'iso_639_1': 'en', 'name': 'English'}, {'iso...</td>\n",
       "    </tr>\n",
       "  </tbody>\n",
       "</table>\n",
       "</div>"
      ],
      "text/plain": [
       "  movies_id                                   spoken_languages\n",
       "0       862           [{'iso_639_1': 'en', 'name': 'English'}]\n",
       "1      8844  [{'iso_639_1': 'en', 'name': 'English'}, {'iso..."
      ]
     },
     "execution_count": 34,
     "metadata": {},
     "output_type": "execute_result"
    }
   ],
   "source": [
    "languages.head(2)"
   ]
  },
  {
   "cell_type": "code",
   "execution_count": 35,
   "metadata": {},
   "outputs": [
    {
     "name": "stdout",
     "output_type": "stream",
     "text": [
      "<class 'str'>\n"
     ]
    }
   ],
   "source": [
    "print(type(languages['spoken_languages'][1]))\n"
   ]
  },
  {
   "cell_type": "code",
   "execution_count": 36,
   "metadata": {},
   "outputs": [],
   "source": [
    "# Definir una función para desanidar la columna spoken_languages\n",
    "def desanidar_spoken_languages(row):\n",
    "    if isinstance(row, str):\n",
    "        try:\n",
    "            spoken_languages = ast.literal_eval(row)\n",
    "            iso_639_1 = []\n",
    "            name = []\n",
    "            if isinstance(spoken_languages, list):  # Agregar esta verificación para manejar el caso de una lista vacía\n",
    "                for lang in spoken_languages:\n",
    "                    iso_639_1.append(lang.get('iso_639_1'))\n",
    "                    name.append(lang.get('name'))\n",
    "            return iso_639_1, name\n",
    "        except (ValueError, SyntaxError):\n",
    "            pass\n",
    "    elif isinstance(row, int):  # Manejar el caso de un valor entero\n",
    "        return [], []\n",
    "    return [], []\n",
    "\n",
    "\n"
   ]
  },
  {
   "cell_type": "code",
   "execution_count": 37,
   "metadata": {},
   "outputs": [],
   "source": [
    "# Aplicar la función de desanidación a la columna spoken_languages\n",
    "languages[['iso_639_1', 'name']] = languages['spoken_languages'].apply(desanidar_spoken_languages).apply(pd.Series)\n"
   ]
  },
  {
   "cell_type": "code",
   "execution_count": 38,
   "metadata": {},
   "outputs": [
    {
     "data": {
      "text/html": [
       "<div>\n",
       "<style scoped>\n",
       "    .dataframe tbody tr th:only-of-type {\n",
       "        vertical-align: middle;\n",
       "    }\n",
       "\n",
       "    .dataframe tbody tr th {\n",
       "        vertical-align: top;\n",
       "    }\n",
       "\n",
       "    .dataframe thead th {\n",
       "        text-align: right;\n",
       "    }\n",
       "</style>\n",
       "<table border=\"1\" class=\"dataframe\">\n",
       "  <thead>\n",
       "    <tr style=\"text-align: right;\">\n",
       "      <th></th>\n",
       "      <th>movies_id</th>\n",
       "      <th>spoken_languages</th>\n",
       "      <th>iso_639_1</th>\n",
       "      <th>name</th>\n",
       "    </tr>\n",
       "  </thead>\n",
       "  <tbody>\n",
       "    <tr>\n",
       "      <th>0</th>\n",
       "      <td>862</td>\n",
       "      <td>[{'iso_639_1': 'en', 'name': 'English'}]</td>\n",
       "      <td>[en]</td>\n",
       "      <td>[English]</td>\n",
       "    </tr>\n",
       "    <tr>\n",
       "      <th>1</th>\n",
       "      <td>8844</td>\n",
       "      <td>[{'iso_639_1': 'en', 'name': 'English'}, {'iso...</td>\n",
       "      <td>[en, fr]</td>\n",
       "      <td>[English, Français]</td>\n",
       "    </tr>\n",
       "    <tr>\n",
       "      <th>2</th>\n",
       "      <td>15602</td>\n",
       "      <td>[{'iso_639_1': 'en', 'name': 'English'}]</td>\n",
       "      <td>[en]</td>\n",
       "      <td>[English]</td>\n",
       "    </tr>\n",
       "    <tr>\n",
       "      <th>3</th>\n",
       "      <td>31357</td>\n",
       "      <td>[{'iso_639_1': 'en', 'name': 'English'}]</td>\n",
       "      <td>[en]</td>\n",
       "      <td>[English]</td>\n",
       "    </tr>\n",
       "    <tr>\n",
       "      <th>4</th>\n",
       "      <td>11862</td>\n",
       "      <td>[{'iso_639_1': 'en', 'name': 'English'}]</td>\n",
       "      <td>[en]</td>\n",
       "      <td>[English]</td>\n",
       "    </tr>\n",
       "  </tbody>\n",
       "</table>\n",
       "</div>"
      ],
      "text/plain": [
       "  movies_id                                   spoken_languages iso_639_1  \\\n",
       "0       862           [{'iso_639_1': 'en', 'name': 'English'}]      [en]   \n",
       "1      8844  [{'iso_639_1': 'en', 'name': 'English'}, {'iso...  [en, fr]   \n",
       "2     15602           [{'iso_639_1': 'en', 'name': 'English'}]      [en]   \n",
       "3     31357           [{'iso_639_1': 'en', 'name': 'English'}]      [en]   \n",
       "4     11862           [{'iso_639_1': 'en', 'name': 'English'}]      [en]   \n",
       "\n",
       "                  name  \n",
       "0            [English]  \n",
       "1  [English, Français]  \n",
       "2            [English]  \n",
       "3            [English]  \n",
       "4            [English]  "
      ]
     },
     "execution_count": 38,
     "metadata": {},
     "output_type": "execute_result"
    }
   ],
   "source": [
    "#verificamos nuestro dataframe\n",
    "languages.head()\n"
   ]
  },
  {
   "cell_type": "code",
   "execution_count": 39,
   "metadata": {},
   "outputs": [
    {
     "name": "stdout",
     "output_type": "stream",
     "text": [
      "  movies_id iso_639_1                 name\n",
      "0       862      [en]            [English]\n",
      "1      8844  [en, fr]  [English, Français]\n",
      "2     15602      [en]            [English]\n",
      "3     31357      [en]            [English]\n",
      "4     11862      [en]            [English]\n"
     ]
    }
   ],
   "source": [
    "#eliminamos la columna spoken_languages\t\n",
    "languages = languages.drop('spoken_languages', axis=1)\n",
    "print(languages.head())\n"
   ]
  },
  {
   "cell_type": "code",
   "execution_count": 40,
   "metadata": {},
   "outputs": [],
   "source": [
    "#guardamos nuestro dataframe\n",
    "languages.to_csv('..\\datasets_crudos_CSV\\df_languages.csv', index=False)"
   ]
  },
  {
   "attachments": {},
   "cell_type": "markdown",
   "metadata": {},
   "source": [
    "## Vamos unir nuestro dataframes de df_btc, df_genres, df_languages, con movies_dataset.csv"
   ]
  },
  {
   "cell_type": "code",
   "execution_count": 41,
   "metadata": {},
   "outputs": [
    {
     "name": "stderr",
     "output_type": "stream",
     "text": [
      "C:\\Users\\Ricky Quinteros\\AppData\\Local\\Temp\\ipykernel_11040\\217173532.py:2: DtypeWarning: Columns (10) have mixed types. Specify dtype option on import or set low_memory=False.\n",
      "  movies_dataset = pd.read_csv('..\\datasets_crudos_CSV\\movies_dataset.csv')\n"
     ]
    }
   ],
   "source": [
    "# Cargar el dataset movies_dataset.csv que es el original\n",
    "movies_dataset = pd.read_csv('..\\datasets_crudos_CSV\\movies_dataset.csv')"
   ]
  },
  {
   "cell_type": "code",
   "execution_count": 42,
   "metadata": {},
   "outputs": [],
   "source": [
    "# Renombrar la columna \"id\" a \"movies_id\"\n",
    "movies_dataset = movies_dataset.rename(columns={'id': 'movies_id'})"
   ]
  },
  {
   "cell_type": "code",
   "execution_count": 43,
   "metadata": {},
   "outputs": [],
   "source": [
    "#eliminamos la columna genres para que no ocurra problema cuando unamos nuestro dataframe\n",
    "movies_dataset = movies_dataset.drop('genres', axis=1)\n"
   ]
  },
  {
   "cell_type": "code",
   "execution_count": 44,
   "metadata": {},
   "outputs": [
    {
     "data": {
      "text/html": [
       "<div>\n",
       "<style scoped>\n",
       "    .dataframe tbody tr th:only-of-type {\n",
       "        vertical-align: middle;\n",
       "    }\n",
       "\n",
       "    .dataframe tbody tr th {\n",
       "        vertical-align: top;\n",
       "    }\n",
       "\n",
       "    .dataframe thead th {\n",
       "        text-align: right;\n",
       "    }\n",
       "</style>\n",
       "<table border=\"1\" class=\"dataframe\">\n",
       "  <thead>\n",
       "    <tr style=\"text-align: right;\">\n",
       "      <th></th>\n",
       "      <th>adult</th>\n",
       "      <th>belongs_to_collection</th>\n",
       "      <th>budget</th>\n",
       "      <th>homepage</th>\n",
       "      <th>movies_id</th>\n",
       "      <th>imdb_id</th>\n",
       "      <th>original_language</th>\n",
       "      <th>original_title</th>\n",
       "      <th>overview</th>\n",
       "      <th>popularity</th>\n",
       "      <th>...</th>\n",
       "      <th>release_date</th>\n",
       "      <th>revenue</th>\n",
       "      <th>runtime</th>\n",
       "      <th>spoken_languages</th>\n",
       "      <th>status</th>\n",
       "      <th>tagline</th>\n",
       "      <th>title</th>\n",
       "      <th>video</th>\n",
       "      <th>vote_average</th>\n",
       "      <th>vote_count</th>\n",
       "    </tr>\n",
       "  </thead>\n",
       "  <tbody>\n",
       "    <tr>\n",
       "      <th>19730</th>\n",
       "      <td>- Written by Ørnås</td>\n",
       "      <td>0.065736</td>\n",
       "      <td>/ff9qCepilowshEtG2GYWwzt2bs4.jpg</td>\n",
       "      <td>[{'iso_3166_1': 'CA', 'name': 'Canada'}, {'iso...</td>\n",
       "      <td>1997-08-20</td>\n",
       "      <td>0</td>\n",
       "      <td>104.0</td>\n",
       "      <td>[{'iso_639_1': 'en', 'name': 'English'}]</td>\n",
       "      <td>Released</td>\n",
       "      <td>NaN</td>\n",
       "      <td>...</td>\n",
       "      <td>1</td>\n",
       "      <td>NaN</td>\n",
       "      <td>NaN</td>\n",
       "      <td>NaN</td>\n",
       "      <td>NaN</td>\n",
       "      <td>NaN</td>\n",
       "      <td>NaN</td>\n",
       "      <td>NaN</td>\n",
       "      <td>NaN</td>\n",
       "      <td>NaN</td>\n",
       "    </tr>\n",
       "  </tbody>\n",
       "</table>\n",
       "<p>1 rows × 23 columns</p>\n",
       "</div>"
      ],
      "text/plain": [
       "                     adult belongs_to_collection  \\\n",
       "19730   - Written by Ørnås              0.065736   \n",
       "\n",
       "                                 budget  \\\n",
       "19730  /ff9qCepilowshEtG2GYWwzt2bs4.jpg   \n",
       "\n",
       "                                                homepage   movies_id imdb_id  \\\n",
       "19730  [{'iso_3166_1': 'CA', 'name': 'Canada'}, {'iso...  1997-08-20       0   \n",
       "\n",
       "      original_language                            original_title  overview  \\\n",
       "19730             104.0  [{'iso_639_1': 'en', 'name': 'English'}]  Released   \n",
       "\n",
       "      popularity  ... release_date revenue runtime spoken_languages  status  \\\n",
       "19730        NaN  ...            1     NaN     NaN              NaN     NaN   \n",
       "\n",
       "       tagline title video vote_average vote_count  \n",
       "19730      NaN   NaN   NaN          NaN        NaN  \n",
       "\n",
       "[1 rows x 23 columns]"
      ]
     },
     "execution_count": 44,
     "metadata": {},
     "output_type": "execute_result"
    }
   ],
   "source": [
    "'''En el dataset principal, cuando estaba haciendo la exploración de los datos\n",
    "en la columna movies_id, observado que hay datos que tienen un formato de tipo fecha\n",
    "por lo cual puede generar error cuando se quiera unir los dataframes, asi que puse averiguar \n",
    "si había mas de una'''\n",
    "movies_dataset[movies_dataset['movies_id'] == '1997-08-20']"
   ]
  },
  {
   "cell_type": "code",
   "execution_count": 45,
   "metadata": {},
   "outputs": [
    {
     "name": "stdout",
     "output_type": "stream",
     "text": [
      "                                                   adult  \\\n",
      "19730                                 - Written by Ørnås   \n",
      "29503   Rune Balot goes to a casino connected to the ...   \n",
      "35587   Avalanche Sharks tells the story of a bikini ...   \n",
      "\n",
      "      belongs_to_collection                            budget  \\\n",
      "19730              0.065736  /ff9qCepilowshEtG2GYWwzt2bs4.jpg   \n",
      "29503              1.931659  /zV8bHuSL6WXoD6FWogP9j4x80bL.jpg   \n",
      "35587              2.185485  /zaSf5OG7V8X8gqFvly88zDdRm46.jpg   \n",
      "\n",
      "                                                homepage   movies_id imdb_id  \\\n",
      "19730  [{'iso_3166_1': 'CA', 'name': 'Canada'}, {'iso...  1997-08-20       0   \n",
      "29503  [{'iso_3166_1': 'US', 'name': 'United States o...  2012-09-29       0   \n",
      "35587           [{'iso_3166_1': 'CA', 'name': 'Canada'}]  2014-01-01       0   \n",
      "\n",
      "      original_language                            original_title  overview  \\\n",
      "19730             104.0  [{'iso_639_1': 'en', 'name': 'English'}]  Released   \n",
      "29503              68.0      [{'iso_639_1': 'ja', 'name': '日本語'}]  Released   \n",
      "35587              82.0  [{'iso_639_1': 'en', 'name': 'English'}]  Released   \n",
      "\n",
      "                  popularity  ... release_date revenue runtime  \\\n",
      "19730                    NaN  ...            1     NaN     NaN   \n",
      "29503                    NaN  ...           12     NaN     NaN   \n",
      "35587  Beware Of Frost Bites  ...           22     NaN     NaN   \n",
      "\n",
      "      spoken_languages  status  tagline title video vote_average vote_count  \n",
      "19730              NaN     NaN      NaN   NaN   NaN          NaN        NaN  \n",
      "29503              NaN     NaN      NaN   NaN   NaN          NaN        NaN  \n",
      "35587              NaN     NaN      NaN   NaN   NaN          NaN        NaN  \n",
      "\n",
      "[3 rows x 23 columns]\n"
     ]
    }
   ],
   "source": [
    "#corraboro que hay mas datos de ese tipo\n",
    "rows_with_format = movies_dataset[movies_dataset['movies_id'].str.contains(r'\\d{4}-\\d{2}-\\d{2}')]\n",
    "print(rows_with_format)"
   ]
  },
  {
   "cell_type": "code",
   "execution_count": 46,
   "metadata": {},
   "outputs": [],
   "source": [
    "#así que decido eliminarlo ya que la mayoría de los valores de las demas columnas son nulas\n",
    "movies_dataset = movies_dataset[~movies_dataset['movies_id'].str.contains(r'\\d{4}-\\d{2}-\\d{2}')]\n"
   ]
  },
  {
   "cell_type": "code",
   "execution_count": 47,
   "metadata": {},
   "outputs": [
    {
     "name": "stdout",
     "output_type": "stream",
     "text": [
      "[]\n",
      "[]\n",
      "['adv=no' '1997-08-20' '2012-09-29' '2014-01-01']\n",
      "['adv=no' '1997-08-20' '2012-09-29' '2014-01-01']\n"
     ]
    }
   ],
   "source": [
    "'''siguiendo ahora buscando irregularidades en las columnas movies_id,\n",
    "Los valores 'adv=no', '1997-08-20', '2012-09-29' y '2014-01-01' \n",
    "aparecen en las columnas 'movies_id' de los dataframes 'genres_desanidados' y 'languages'.'''\n",
    "print(movies_dataset[~movies_dataset['movies_id'].astype(str).apply(str.isnumeric)]['movies_id'].unique())\n",
    "print(movies_with_names_unique[~movies_with_names_unique['movies_id'].astype(str).apply(str.isnumeric)]['movies_id'].unique())\n",
    "print(genres_desanidados[~genres_desanidados['movies_id'].astype(str).apply(str.isnumeric)]['movies_id'].unique())\n",
    "print(languages[~languages['movies_id'].astype(str).apply(str.isnumeric)]['movies_id'].unique())\n"
   ]
  },
  {
   "cell_type": "code",
   "execution_count": 48,
   "metadata": {},
   "outputs": [
    {
     "name": "stdout",
     "output_type": "stream",
     "text": [
      "                                                  genres   movies_id\n",
      "3211                           [Drama, Foreign, Romance]      adv=no\n",
      "19730  [Carousel Productions, Telescene Film Group Pr...  1997-08-20\n",
      "29503  [Aniplex, BROSTA TV, GoHands, Mardock Scramble...  2012-09-29\n",
      "35587  [Odyssey Media, Pulser Productions, Rogue Stat...  2014-01-01\n",
      "        movies_id iso_639_1 name\n",
      "3211       adv=no        []   []\n",
      "19730  1997-08-20        []   []\n",
      "29503  2012-09-29        []   []\n",
      "35587  2014-01-01        []   []\n"
     ]
    }
   ],
   "source": [
    "print(genres_desanidados[genres_desanidados['movies_id'].isin(['adv=no', '1997-08-20', '2012-09-29', '2014-01-01'])])\n",
    "print(languages[languages['movies_id'].isin(['adv=no', '1997-08-20', '2012-09-29', '2014-01-01'])])\n"
   ]
  },
  {
   "cell_type": "code",
   "execution_count": 49,
   "metadata": {},
   "outputs": [],
   "source": [
    "#decido eliminarlos\n",
    "genres_desanidados = genres_desanidados[~genres_desanidados['movies_id'].isin(['adv=no', '1997-08-20', '2012-09-29', '2014-01-01'])]\n",
    "languages = languages[~languages['movies_id'].isin(['adv=no', '1997-08-20', '2012-09-29', '2014-01-01'])]\n"
   ]
  },
  {
   "cell_type": "code",
   "execution_count": 50,
   "metadata": {},
   "outputs": [
    {
     "name": "stderr",
     "output_type": "stream",
     "text": [
      "C:\\Users\\Ricky Quinteros\\AppData\\Local\\Temp\\ipykernel_11040\\2302811060.py:4: SettingWithCopyWarning: \n",
      "A value is trying to be set on a copy of a slice from a DataFrame.\n",
      "Try using .loc[row_indexer,col_indexer] = value instead\n",
      "\n",
      "See the caveats in the documentation: https://pandas.pydata.org/pandas-docs/stable/user_guide/indexing.html#returning-a-view-versus-a-copy\n",
      "  movies_with_names_unique['movies_id'] = movies_with_names_unique['movies_id'].astype(int)\n"
     ]
    }
   ],
   "source": [
    "'''convertir el tipo de datos de la columna movies_id en cada dataframe para que coincidan. \n",
    "Puedes hacerlo utilizando el método astype()'''\n",
    "movies_dataset['movies_id'] = movies_dataset['movies_id'].astype(int)\n",
    "movies_with_names_unique['movies_id'] = movies_with_names_unique['movies_id'].astype(int)\n",
    "genres_desanidados['movies_id'] = genres_desanidados['movies_id'].astype(int)\n",
    "languages['movies_id'] = languages['movies_id'].astype(int)\n"
   ]
  },
  {
   "cell_type": "code",
   "execution_count": 51,
   "metadata": {},
   "outputs": [],
   "source": [
    "# Unir los dataframes utilizando merge\n",
    "merged_df = movies_dataset.merge(movies_with_names_unique, on='movies_id', how='left')\n",
    "merged_df = merged_df.merge(genres_desanidados, on='movies_id', how='left')\n",
    "merged_df = merged_df.merge(languages, on='movies_id', how='left')"
   ]
  },
  {
   "cell_type": "code",
   "execution_count": 52,
   "metadata": {},
   "outputs": [
    {
     "data": {
      "text/html": [
       "<div>\n",
       "<style scoped>\n",
       "    .dataframe tbody tr th:only-of-type {\n",
       "        vertical-align: middle;\n",
       "    }\n",
       "\n",
       "    .dataframe tbody tr th {\n",
       "        vertical-align: top;\n",
       "    }\n",
       "\n",
       "    .dataframe thead th {\n",
       "        text-align: right;\n",
       "    }\n",
       "</style>\n",
       "<table border=\"1\" class=\"dataframe\">\n",
       "  <thead>\n",
       "    <tr style=\"text-align: right;\">\n",
       "      <th></th>\n",
       "      <th>adult</th>\n",
       "      <th>belongs_to_collection</th>\n",
       "      <th>budget</th>\n",
       "      <th>homepage</th>\n",
       "      <th>movies_id</th>\n",
       "      <th>imdb_id</th>\n",
       "      <th>original_language</th>\n",
       "      <th>original_title</th>\n",
       "      <th>overview</th>\n",
       "      <th>popularity</th>\n",
       "      <th>...</th>\n",
       "      <th>tagline</th>\n",
       "      <th>title</th>\n",
       "      <th>video</th>\n",
       "      <th>vote_average</th>\n",
       "      <th>vote_count</th>\n",
       "      <th>collection_id</th>\n",
       "      <th>collection_name</th>\n",
       "      <th>genres</th>\n",
       "      <th>iso_639_1</th>\n",
       "      <th>name</th>\n",
       "    </tr>\n",
       "  </thead>\n",
       "  <tbody>\n",
       "    <tr>\n",
       "      <th>0</th>\n",
       "      <td>False</td>\n",
       "      <td>{'id': 10194, 'name': 'Toy Story Collection', ...</td>\n",
       "      <td>30000000</td>\n",
       "      <td>http://toystory.disney.com/toy-story</td>\n",
       "      <td>862</td>\n",
       "      <td>tt0114709</td>\n",
       "      <td>en</td>\n",
       "      <td>Toy Story</td>\n",
       "      <td>Led by Woody, Andy's toys live happily in his ...</td>\n",
       "      <td>21.946943</td>\n",
       "      <td>...</td>\n",
       "      <td>NaN</td>\n",
       "      <td>Toy Story</td>\n",
       "      <td>False</td>\n",
       "      <td>7.7</td>\n",
       "      <td>5415.0</td>\n",
       "      <td>10194.0</td>\n",
       "      <td>Toy Story Collection</td>\n",
       "      <td>[Animation, Comedy, Family]</td>\n",
       "      <td>[en]</td>\n",
       "      <td>[English]</td>\n",
       "    </tr>\n",
       "    <tr>\n",
       "      <th>1</th>\n",
       "      <td>False</td>\n",
       "      <td>NaN</td>\n",
       "      <td>65000000</td>\n",
       "      <td>NaN</td>\n",
       "      <td>8844</td>\n",
       "      <td>tt0113497</td>\n",
       "      <td>en</td>\n",
       "      <td>Jumanji</td>\n",
       "      <td>When siblings Judy and Peter discover an encha...</td>\n",
       "      <td>17.015539</td>\n",
       "      <td>...</td>\n",
       "      <td>Roll the dice and unleash the excitement!</td>\n",
       "      <td>Jumanji</td>\n",
       "      <td>False</td>\n",
       "      <td>6.9</td>\n",
       "      <td>2413.0</td>\n",
       "      <td>NaN</td>\n",
       "      <td>NaN</td>\n",
       "      <td>[Adventure, Family, Fantasy]</td>\n",
       "      <td>[en, fr]</td>\n",
       "      <td>[English, Français]</td>\n",
       "    </tr>\n",
       "  </tbody>\n",
       "</table>\n",
       "<p>2 rows × 28 columns</p>\n",
       "</div>"
      ],
      "text/plain": [
       "   adult                              belongs_to_collection    budget  \\\n",
       "0  False  {'id': 10194, 'name': 'Toy Story Collection', ...  30000000   \n",
       "1  False                                                NaN  65000000   \n",
       "\n",
       "                               homepage  movies_id    imdb_id  \\\n",
       "0  http://toystory.disney.com/toy-story        862  tt0114709   \n",
       "1                                   NaN       8844  tt0113497   \n",
       "\n",
       "  original_language original_title  \\\n",
       "0                en      Toy Story   \n",
       "1                en        Jumanji   \n",
       "\n",
       "                                            overview popularity  ...  \\\n",
       "0  Led by Woody, Andy's toys live happily in his ...  21.946943  ...   \n",
       "1  When siblings Judy and Peter discover an encha...  17.015539  ...   \n",
       "\n",
       "                                     tagline      title  video vote_average  \\\n",
       "0                                        NaN  Toy Story  False          7.7   \n",
       "1  Roll the dice and unleash the excitement!    Jumanji  False          6.9   \n",
       "\n",
       "   vote_count  collection_id       collection_name  \\\n",
       "0      5415.0        10194.0  Toy Story Collection   \n",
       "1      2413.0            NaN                   NaN   \n",
       "\n",
       "                         genres iso_639_1                 name  \n",
       "0   [Animation, Comedy, Family]      [en]            [English]  \n",
       "1  [Adventure, Family, Fantasy]  [en, fr]  [English, Français]  \n",
       "\n",
       "[2 rows x 28 columns]"
      ]
     },
     "execution_count": 52,
     "metadata": {},
     "output_type": "execute_result"
    }
   ],
   "source": [
    "#verificamos la union\n",
    "merged_df.head(2)"
   ]
  },
  {
   "attachments": {},
   "cell_type": "markdown",
   "metadata": {},
   "source": [
    "## Vamos eliminando por el momento las colunmnas que hemos desanidado"
   ]
  },
  {
   "cell_type": "code",
   "execution_count": 53,
   "metadata": {},
   "outputs": [],
   "source": [
    "#Elimamos esatas columnas por el momento\n",
    "columns_to_drop = ['belongs_to_collection', 'spoken_languages']\n",
    "merged_df = merged_df.drop(columns=columns_to_drop)\n"
   ]
  },
  {
   "cell_type": "code",
   "execution_count": 54,
   "metadata": {},
   "outputs": [],
   "source": [
    "'''Como nos piden en el requerimiento de que hay algunas columnas que no se van a usar como\n",
    "video,imdb_id,adult,original_title,poster_path y homepage\n",
    "vamos a proceder a eliminarlos de dataframe'''\n",
    "\n",
    "columns_to_drop = ['video', 'imdb_id', 'adult', 'original_title', 'poster_path', 'homepage']\n",
    "merged_df = merged_df.drop(columns_to_drop, axis=1)\n"
   ]
  },
  {
   "cell_type": "code",
   "execution_count": 55,
   "metadata": {},
   "outputs": [
    {
     "data": {
      "text/html": [
       "<div>\n",
       "<style scoped>\n",
       "    .dataframe tbody tr th:only-of-type {\n",
       "        vertical-align: middle;\n",
       "    }\n",
       "\n",
       "    .dataframe tbody tr th {\n",
       "        vertical-align: top;\n",
       "    }\n",
       "\n",
       "    .dataframe thead th {\n",
       "        text-align: right;\n",
       "    }\n",
       "</style>\n",
       "<table border=\"1\" class=\"dataframe\">\n",
       "  <thead>\n",
       "    <tr style=\"text-align: right;\">\n",
       "      <th></th>\n",
       "      <th>budget</th>\n",
       "      <th>movies_id</th>\n",
       "      <th>original_language</th>\n",
       "      <th>overview</th>\n",
       "      <th>popularity</th>\n",
       "      <th>production_companies</th>\n",
       "      <th>production_countries</th>\n",
       "      <th>release_date</th>\n",
       "      <th>revenue</th>\n",
       "      <th>runtime</th>\n",
       "      <th>status</th>\n",
       "      <th>tagline</th>\n",
       "      <th>title</th>\n",
       "      <th>vote_average</th>\n",
       "      <th>vote_count</th>\n",
       "      <th>collection_id</th>\n",
       "      <th>collection_name</th>\n",
       "      <th>genres</th>\n",
       "      <th>iso_639_1</th>\n",
       "      <th>name</th>\n",
       "    </tr>\n",
       "  </thead>\n",
       "  <tbody>\n",
       "    <tr>\n",
       "      <th>0</th>\n",
       "      <td>30000000</td>\n",
       "      <td>862</td>\n",
       "      <td>en</td>\n",
       "      <td>Led by Woody, Andy's toys live happily in his ...</td>\n",
       "      <td>21.946943</td>\n",
       "      <td>[{'name': 'Pixar Animation Studios', 'id': 3}]</td>\n",
       "      <td>[{'iso_3166_1': 'US', 'name': 'United States o...</td>\n",
       "      <td>1995-10-30</td>\n",
       "      <td>373554033.0</td>\n",
       "      <td>81.0</td>\n",
       "      <td>Released</td>\n",
       "      <td>NaN</td>\n",
       "      <td>Toy Story</td>\n",
       "      <td>7.7</td>\n",
       "      <td>5415.0</td>\n",
       "      <td>10194.0</td>\n",
       "      <td>Toy Story Collection</td>\n",
       "      <td>[Animation, Comedy, Family]</td>\n",
       "      <td>[en]</td>\n",
       "      <td>[English]</td>\n",
       "    </tr>\n",
       "    <tr>\n",
       "      <th>1</th>\n",
       "      <td>65000000</td>\n",
       "      <td>8844</td>\n",
       "      <td>en</td>\n",
       "      <td>When siblings Judy and Peter discover an encha...</td>\n",
       "      <td>17.015539</td>\n",
       "      <td>[{'name': 'TriStar Pictures', 'id': 559}, {'na...</td>\n",
       "      <td>[{'iso_3166_1': 'US', 'name': 'United States o...</td>\n",
       "      <td>1995-12-15</td>\n",
       "      <td>262797249.0</td>\n",
       "      <td>104.0</td>\n",
       "      <td>Released</td>\n",
       "      <td>Roll the dice and unleash the excitement!</td>\n",
       "      <td>Jumanji</td>\n",
       "      <td>6.9</td>\n",
       "      <td>2413.0</td>\n",
       "      <td>NaN</td>\n",
       "      <td>NaN</td>\n",
       "      <td>[Adventure, Family, Fantasy]</td>\n",
       "      <td>[en, fr]</td>\n",
       "      <td>[English, Français]</td>\n",
       "    </tr>\n",
       "    <tr>\n",
       "      <th>2</th>\n",
       "      <td>0</td>\n",
       "      <td>15602</td>\n",
       "      <td>en</td>\n",
       "      <td>A family wedding reignites the ancient feud be...</td>\n",
       "      <td>11.7129</td>\n",
       "      <td>[{'name': 'Warner Bros.', 'id': 6194}, {'name'...</td>\n",
       "      <td>[{'iso_3166_1': 'US', 'name': 'United States o...</td>\n",
       "      <td>1995-12-22</td>\n",
       "      <td>0.0</td>\n",
       "      <td>101.0</td>\n",
       "      <td>Released</td>\n",
       "      <td>Still Yelling. Still Fighting. Still Ready for...</td>\n",
       "      <td>Grumpier Old Men</td>\n",
       "      <td>6.5</td>\n",
       "      <td>92.0</td>\n",
       "      <td>119050.0</td>\n",
       "      <td>Grumpy Old Men Collection</td>\n",
       "      <td>[Comedy, Romance]</td>\n",
       "      <td>[en]</td>\n",
       "      <td>[English]</td>\n",
       "    </tr>\n",
       "    <tr>\n",
       "      <th>3</th>\n",
       "      <td>16000000</td>\n",
       "      <td>31357</td>\n",
       "      <td>en</td>\n",
       "      <td>Cheated on, mistreated and stepped on, the wom...</td>\n",
       "      <td>3.859495</td>\n",
       "      <td>[{'name': 'Twentieth Century Fox Film Corporat...</td>\n",
       "      <td>[{'iso_3166_1': 'US', 'name': 'United States o...</td>\n",
       "      <td>1995-12-22</td>\n",
       "      <td>81452156.0</td>\n",
       "      <td>127.0</td>\n",
       "      <td>Released</td>\n",
       "      <td>Friends are the people who let you be yourself...</td>\n",
       "      <td>Waiting to Exhale</td>\n",
       "      <td>6.1</td>\n",
       "      <td>34.0</td>\n",
       "      <td>NaN</td>\n",
       "      <td>NaN</td>\n",
       "      <td>[Comedy, Drama, Romance]</td>\n",
       "      <td>[en]</td>\n",
       "      <td>[English]</td>\n",
       "    </tr>\n",
       "    <tr>\n",
       "      <th>4</th>\n",
       "      <td>0</td>\n",
       "      <td>11862</td>\n",
       "      <td>en</td>\n",
       "      <td>Just when George Banks has recovered from his ...</td>\n",
       "      <td>8.387519</td>\n",
       "      <td>[{'name': 'Sandollar Productions', 'id': 5842}...</td>\n",
       "      <td>[{'iso_3166_1': 'US', 'name': 'United States o...</td>\n",
       "      <td>1995-02-10</td>\n",
       "      <td>76578911.0</td>\n",
       "      <td>106.0</td>\n",
       "      <td>Released</td>\n",
       "      <td>Just When His World Is Back To Normal... He's ...</td>\n",
       "      <td>Father of the Bride Part II</td>\n",
       "      <td>5.7</td>\n",
       "      <td>173.0</td>\n",
       "      <td>96871.0</td>\n",
       "      <td>Father of the Bride Collection</td>\n",
       "      <td>[Comedy]</td>\n",
       "      <td>[en]</td>\n",
       "      <td>[English]</td>\n",
       "    </tr>\n",
       "  </tbody>\n",
       "</table>\n",
       "</div>"
      ],
      "text/plain": [
       "     budget  movies_id original_language  \\\n",
       "0  30000000        862                en   \n",
       "1  65000000       8844                en   \n",
       "2         0      15602                en   \n",
       "3  16000000      31357                en   \n",
       "4         0      11862                en   \n",
       "\n",
       "                                            overview popularity  \\\n",
       "0  Led by Woody, Andy's toys live happily in his ...  21.946943   \n",
       "1  When siblings Judy and Peter discover an encha...  17.015539   \n",
       "2  A family wedding reignites the ancient feud be...    11.7129   \n",
       "3  Cheated on, mistreated and stepped on, the wom...   3.859495   \n",
       "4  Just when George Banks has recovered from his ...   8.387519   \n",
       "\n",
       "                                production_companies  \\\n",
       "0     [{'name': 'Pixar Animation Studios', 'id': 3}]   \n",
       "1  [{'name': 'TriStar Pictures', 'id': 559}, {'na...   \n",
       "2  [{'name': 'Warner Bros.', 'id': 6194}, {'name'...   \n",
       "3  [{'name': 'Twentieth Century Fox Film Corporat...   \n",
       "4  [{'name': 'Sandollar Productions', 'id': 5842}...   \n",
       "\n",
       "                                production_countries release_date  \\\n",
       "0  [{'iso_3166_1': 'US', 'name': 'United States o...   1995-10-30   \n",
       "1  [{'iso_3166_1': 'US', 'name': 'United States o...   1995-12-15   \n",
       "2  [{'iso_3166_1': 'US', 'name': 'United States o...   1995-12-22   \n",
       "3  [{'iso_3166_1': 'US', 'name': 'United States o...   1995-12-22   \n",
       "4  [{'iso_3166_1': 'US', 'name': 'United States o...   1995-02-10   \n",
       "\n",
       "       revenue  runtime    status  \\\n",
       "0  373554033.0     81.0  Released   \n",
       "1  262797249.0    104.0  Released   \n",
       "2          0.0    101.0  Released   \n",
       "3   81452156.0    127.0  Released   \n",
       "4   76578911.0    106.0  Released   \n",
       "\n",
       "                                             tagline  \\\n",
       "0                                                NaN   \n",
       "1          Roll the dice and unleash the excitement!   \n",
       "2  Still Yelling. Still Fighting. Still Ready for...   \n",
       "3  Friends are the people who let you be yourself...   \n",
       "4  Just When His World Is Back To Normal... He's ...   \n",
       "\n",
       "                         title  vote_average  vote_count  collection_id  \\\n",
       "0                    Toy Story           7.7      5415.0        10194.0   \n",
       "1                      Jumanji           6.9      2413.0            NaN   \n",
       "2             Grumpier Old Men           6.5        92.0       119050.0   \n",
       "3            Waiting to Exhale           6.1        34.0            NaN   \n",
       "4  Father of the Bride Part II           5.7       173.0        96871.0   \n",
       "\n",
       "                  collection_name                        genres iso_639_1  \\\n",
       "0            Toy Story Collection   [Animation, Comedy, Family]      [en]   \n",
       "1                             NaN  [Adventure, Family, Fantasy]  [en, fr]   \n",
       "2       Grumpy Old Men Collection             [Comedy, Romance]      [en]   \n",
       "3                             NaN      [Comedy, Drama, Romance]      [en]   \n",
       "4  Father of the Bride Collection                      [Comedy]      [en]   \n",
       "\n",
       "                  name  \n",
       "0            [English]  \n",
       "1  [English, Français]  \n",
       "2            [English]  \n",
       "3            [English]  \n",
       "4            [English]  "
      ]
     },
     "execution_count": 55,
     "metadata": {},
     "output_type": "execute_result"
    }
   ],
   "source": [
    "merged_df.head()"
   ]
  },
  {
   "cell_type": "code",
   "execution_count": 56,
   "metadata": {},
   "outputs": [],
   "source": [
    "'''Los valores nulos de los campos revenue, budget deben ser rellenados por el número 0'''\n",
    "merged_df['revenue'] = merged_df['revenue'].fillna(0)\n",
    "merged_df['budget'] = merged_df['budget'].fillna(0)\n"
   ]
  },
  {
   "cell_type": "code",
   "execution_count": 57,
   "metadata": {},
   "outputs": [],
   "source": [
    "'''Los valores nulos del campo release date deben eliminarse.'''\n",
    "merged_df.dropna(subset=['release_date'], inplace=True)\n"
   ]
  },
  {
   "cell_type": "code",
   "execution_count": 58,
   "metadata": {},
   "outputs": [],
   "source": [
    "'''De haber fechas, deberán tener el formato AAAA-mm-dd, \n",
    "además deberán crear la columna release_year donde extraerán el año de la fecha de estreno.'''\n",
    "\n",
    "# Convertir la columna \"release_date\" al tipo de dato datetime\n",
    "merged_df['release_date'] = pd.to_datetime(merged_df['release_date'], errors='coerce')\n"
   ]
  },
  {
   "cell_type": "code",
   "execution_count": 59,
   "metadata": {},
   "outputs": [],
   "source": [
    "# Crear la columna \"release_year\" con el año de la fecha de estreno\n",
    "merged_df['release_year'] = merged_df['release_date'].dt.year"
   ]
  },
  {
   "cell_type": "code",
   "execution_count": 60,
   "metadata": {},
   "outputs": [],
   "source": [
    "'''Crear la columna con el retorno de inversión, llamada return con los campos revenue y budget, \n",
    "dividiendo estas dos últimas revenue / budget, \n",
    "cuando no hay datos disponibles para calcularlo, deberá tomar el valor 0.'''\n",
    "\n",
    "# Convertir las columnas \"revenue\" y \"budget\" a tipo numérico (float)\n",
    "merged_df['revenue'] = pd.to_numeric(merged_df['revenue'], errors='coerce')\n",
    "merged_df['budget'] = pd.to_numeric(merged_df['budget'], errors='coerce')"
   ]
  },
  {
   "cell_type": "code",
   "execution_count": 61,
   "metadata": {},
   "outputs": [],
   "source": [
    "# Crear la columna \"return\" con el retorno de inversión\n",
    "merged_df['return'] = merged_df['revenue'].div(merged_df['budget']).fillna(0)"
   ]
  },
  {
   "cell_type": "code",
   "execution_count": 62,
   "metadata": {},
   "outputs": [],
   "source": [
    "# Convertir el tipo de dato a float\n",
    "merged_df['return'] = merged_df['return'].astype(float)"
   ]
  },
  {
   "cell_type": "code",
   "execution_count": 63,
   "metadata": {},
   "outputs": [],
   "source": [
    "#ordenamos nuestras columnas\n",
    "column_order = ['movies_id'] + [col for col in merged_df.columns if col != 'movies_id']\n",
    "merged_df = merged_df[column_order]\n"
   ]
  },
  {
   "cell_type": "code",
   "execution_count": 64,
   "metadata": {},
   "outputs": [
    {
     "data": {
      "text/html": [
       "<div>\n",
       "<style scoped>\n",
       "    .dataframe tbody tr th:only-of-type {\n",
       "        vertical-align: middle;\n",
       "    }\n",
       "\n",
       "    .dataframe tbody tr th {\n",
       "        vertical-align: top;\n",
       "    }\n",
       "\n",
       "    .dataframe thead th {\n",
       "        text-align: right;\n",
       "    }\n",
       "</style>\n",
       "<table border=\"1\" class=\"dataframe\">\n",
       "  <thead>\n",
       "    <tr style=\"text-align: right;\">\n",
       "      <th></th>\n",
       "      <th>movies_id</th>\n",
       "      <th>budget</th>\n",
       "      <th>original_language</th>\n",
       "      <th>overview</th>\n",
       "      <th>popularity</th>\n",
       "      <th>production_companies</th>\n",
       "      <th>production_countries</th>\n",
       "      <th>release_date</th>\n",
       "      <th>revenue</th>\n",
       "      <th>runtime</th>\n",
       "      <th>...</th>\n",
       "      <th>title</th>\n",
       "      <th>vote_average</th>\n",
       "      <th>vote_count</th>\n",
       "      <th>collection_id</th>\n",
       "      <th>collection_name</th>\n",
       "      <th>genres</th>\n",
       "      <th>iso_639_1</th>\n",
       "      <th>name</th>\n",
       "      <th>release_year</th>\n",
       "      <th>return</th>\n",
       "    </tr>\n",
       "  </thead>\n",
       "  <tbody>\n",
       "    <tr>\n",
       "      <th>0</th>\n",
       "      <td>862</td>\n",
       "      <td>30000000</td>\n",
       "      <td>en</td>\n",
       "      <td>Led by Woody, Andy's toys live happily in his ...</td>\n",
       "      <td>21.946943</td>\n",
       "      <td>[{'name': 'Pixar Animation Studios', 'id': 3}]</td>\n",
       "      <td>[{'iso_3166_1': 'US', 'name': 'United States o...</td>\n",
       "      <td>1995-10-30</td>\n",
       "      <td>373554033.0</td>\n",
       "      <td>81.0</td>\n",
       "      <td>...</td>\n",
       "      <td>Toy Story</td>\n",
       "      <td>7.7</td>\n",
       "      <td>5415.0</td>\n",
       "      <td>10194.0</td>\n",
       "      <td>Toy Story Collection</td>\n",
       "      <td>[Animation, Comedy, Family]</td>\n",
       "      <td>[en]</td>\n",
       "      <td>[English]</td>\n",
       "      <td>1995</td>\n",
       "      <td>12.451801</td>\n",
       "    </tr>\n",
       "    <tr>\n",
       "      <th>1</th>\n",
       "      <td>8844</td>\n",
       "      <td>65000000</td>\n",
       "      <td>en</td>\n",
       "      <td>When siblings Judy and Peter discover an encha...</td>\n",
       "      <td>17.015539</td>\n",
       "      <td>[{'name': 'TriStar Pictures', 'id': 559}, {'na...</td>\n",
       "      <td>[{'iso_3166_1': 'US', 'name': 'United States o...</td>\n",
       "      <td>1995-12-15</td>\n",
       "      <td>262797249.0</td>\n",
       "      <td>104.0</td>\n",
       "      <td>...</td>\n",
       "      <td>Jumanji</td>\n",
       "      <td>6.9</td>\n",
       "      <td>2413.0</td>\n",
       "      <td>NaN</td>\n",
       "      <td>NaN</td>\n",
       "      <td>[Adventure, Family, Fantasy]</td>\n",
       "      <td>[en, fr]</td>\n",
       "      <td>[English, Français]</td>\n",
       "      <td>1995</td>\n",
       "      <td>4.043035</td>\n",
       "    </tr>\n",
       "    <tr>\n",
       "      <th>2</th>\n",
       "      <td>15602</td>\n",
       "      <td>0</td>\n",
       "      <td>en</td>\n",
       "      <td>A family wedding reignites the ancient feud be...</td>\n",
       "      <td>11.7129</td>\n",
       "      <td>[{'name': 'Warner Bros.', 'id': 6194}, {'name'...</td>\n",
       "      <td>[{'iso_3166_1': 'US', 'name': 'United States o...</td>\n",
       "      <td>1995-12-22</td>\n",
       "      <td>0.0</td>\n",
       "      <td>101.0</td>\n",
       "      <td>...</td>\n",
       "      <td>Grumpier Old Men</td>\n",
       "      <td>6.5</td>\n",
       "      <td>92.0</td>\n",
       "      <td>119050.0</td>\n",
       "      <td>Grumpy Old Men Collection</td>\n",
       "      <td>[Comedy, Romance]</td>\n",
       "      <td>[en]</td>\n",
       "      <td>[English]</td>\n",
       "      <td>1995</td>\n",
       "      <td>0.000000</td>\n",
       "    </tr>\n",
       "    <tr>\n",
       "      <th>3</th>\n",
       "      <td>31357</td>\n",
       "      <td>16000000</td>\n",
       "      <td>en</td>\n",
       "      <td>Cheated on, mistreated and stepped on, the wom...</td>\n",
       "      <td>3.859495</td>\n",
       "      <td>[{'name': 'Twentieth Century Fox Film Corporat...</td>\n",
       "      <td>[{'iso_3166_1': 'US', 'name': 'United States o...</td>\n",
       "      <td>1995-12-22</td>\n",
       "      <td>81452156.0</td>\n",
       "      <td>127.0</td>\n",
       "      <td>...</td>\n",
       "      <td>Waiting to Exhale</td>\n",
       "      <td>6.1</td>\n",
       "      <td>34.0</td>\n",
       "      <td>NaN</td>\n",
       "      <td>NaN</td>\n",
       "      <td>[Comedy, Drama, Romance]</td>\n",
       "      <td>[en]</td>\n",
       "      <td>[English]</td>\n",
       "      <td>1995</td>\n",
       "      <td>5.090760</td>\n",
       "    </tr>\n",
       "    <tr>\n",
       "      <th>4</th>\n",
       "      <td>11862</td>\n",
       "      <td>0</td>\n",
       "      <td>en</td>\n",
       "      <td>Just when George Banks has recovered from his ...</td>\n",
       "      <td>8.387519</td>\n",
       "      <td>[{'name': 'Sandollar Productions', 'id': 5842}...</td>\n",
       "      <td>[{'iso_3166_1': 'US', 'name': 'United States o...</td>\n",
       "      <td>1995-02-10</td>\n",
       "      <td>76578911.0</td>\n",
       "      <td>106.0</td>\n",
       "      <td>...</td>\n",
       "      <td>Father of the Bride Part II</td>\n",
       "      <td>5.7</td>\n",
       "      <td>173.0</td>\n",
       "      <td>96871.0</td>\n",
       "      <td>Father of the Bride Collection</td>\n",
       "      <td>[Comedy]</td>\n",
       "      <td>[en]</td>\n",
       "      <td>[English]</td>\n",
       "      <td>1995</td>\n",
       "      <td>inf</td>\n",
       "    </tr>\n",
       "  </tbody>\n",
       "</table>\n",
       "<p>5 rows × 22 columns</p>\n",
       "</div>"
      ],
      "text/plain": [
       "   movies_id    budget original_language  \\\n",
       "0        862  30000000                en   \n",
       "1       8844  65000000                en   \n",
       "2      15602         0                en   \n",
       "3      31357  16000000                en   \n",
       "4      11862         0                en   \n",
       "\n",
       "                                            overview popularity  \\\n",
       "0  Led by Woody, Andy's toys live happily in his ...  21.946943   \n",
       "1  When siblings Judy and Peter discover an encha...  17.015539   \n",
       "2  A family wedding reignites the ancient feud be...    11.7129   \n",
       "3  Cheated on, mistreated and stepped on, the wom...   3.859495   \n",
       "4  Just when George Banks has recovered from his ...   8.387519   \n",
       "\n",
       "                                production_companies  \\\n",
       "0     [{'name': 'Pixar Animation Studios', 'id': 3}]   \n",
       "1  [{'name': 'TriStar Pictures', 'id': 559}, {'na...   \n",
       "2  [{'name': 'Warner Bros.', 'id': 6194}, {'name'...   \n",
       "3  [{'name': 'Twentieth Century Fox Film Corporat...   \n",
       "4  [{'name': 'Sandollar Productions', 'id': 5842}...   \n",
       "\n",
       "                                production_countries release_date  \\\n",
       "0  [{'iso_3166_1': 'US', 'name': 'United States o...   1995-10-30   \n",
       "1  [{'iso_3166_1': 'US', 'name': 'United States o...   1995-12-15   \n",
       "2  [{'iso_3166_1': 'US', 'name': 'United States o...   1995-12-22   \n",
       "3  [{'iso_3166_1': 'US', 'name': 'United States o...   1995-12-22   \n",
       "4  [{'iso_3166_1': 'US', 'name': 'United States o...   1995-02-10   \n",
       "\n",
       "       revenue  runtime  ...                        title vote_average  \\\n",
       "0  373554033.0     81.0  ...                    Toy Story          7.7   \n",
       "1  262797249.0    104.0  ...                      Jumanji          6.9   \n",
       "2          0.0    101.0  ...             Grumpier Old Men          6.5   \n",
       "3   81452156.0    127.0  ...            Waiting to Exhale          6.1   \n",
       "4   76578911.0    106.0  ...  Father of the Bride Part II          5.7   \n",
       "\n",
       "  vote_count  collection_id                 collection_name  \\\n",
       "0     5415.0        10194.0            Toy Story Collection   \n",
       "1     2413.0            NaN                             NaN   \n",
       "2       92.0       119050.0       Grumpy Old Men Collection   \n",
       "3       34.0            NaN                             NaN   \n",
       "4      173.0        96871.0  Father of the Bride Collection   \n",
       "\n",
       "                         genres iso_639_1                 name release_year  \\\n",
       "0   [Animation, Comedy, Family]      [en]            [English]         1995   \n",
       "1  [Adventure, Family, Fantasy]  [en, fr]  [English, Français]         1995   \n",
       "2             [Comedy, Romance]      [en]            [English]         1995   \n",
       "3      [Comedy, Drama, Romance]      [en]            [English]         1995   \n",
       "4                      [Comedy]      [en]            [English]         1995   \n",
       "\n",
       "      return  \n",
       "0  12.451801  \n",
       "1   4.043035  \n",
       "2   0.000000  \n",
       "3   5.090760  \n",
       "4        inf  \n",
       "\n",
       "[5 rows x 22 columns]"
      ]
     },
     "execution_count": 64,
     "metadata": {},
     "output_type": "execute_result"
    }
   ],
   "source": [
    "merged_df.head()"
   ]
  },
  {
   "cell_type": "code",
   "execution_count": 65,
   "metadata": {},
   "outputs": [],
   "source": [
    "#guardamos este datframe unido, esto es una parte, ya que falta verificar otros dataframes\n",
    "merged_df.to_csv('..\\datasets_crudos_CSV\\datasetunido.csv')"
   ]
  },
  {
   "cell_type": "code",
   "execution_count": null,
   "metadata": {},
   "outputs": [],
   "source": [
    "keys_list = []  # Lista vacía para almacenar las claves únicas\n",
    "\n",
    "for index, row in df_movies.iterrows():\n",
    "    countries_str = row['production_countries']\n",
    "    \n",
    "    if pd.notnull(countries_str):  # Verificar si el valor no es nulo\n",
    "        countries_list = ast.literal_eval(countries_str)\n",
    "        \n",
    "        if isinstance(countries_list, list) and len(countries_list) > 0:\n",
    "            keys = countries_list[0].keys()\n",
    "            keys_list.extend(keys)\n",
    "\n",
    "keys_list = list(set(keys_list))  # Eliminar duplicados\n",
    "\n",
    "print(keys_list)\n"
   ]
  },
  {
   "cell_type": "code",
   "execution_count": 92,
   "metadata": {},
   "outputs": [
    {
     "name": "stdout",
     "output_type": "stream",
     "text": [
      "['name', 'id']\n"
     ]
    }
   ],
   "source": [
    "keys_list = []  # Lista vacía para almacenar las claves únicas\n",
    "\n",
    "for index, row in df_movies.iterrows():\n",
    "    countries_str = row['production_companies']\n",
    "    \n",
    "    if pd.notnull(countries_str):  # Verificar si el valor no es nulo\n",
    "        countries_list = ast.literal_eval(countries_str)\n",
    "        \n",
    "        if isinstance(countries_list, list) and len(countries_list) > 0:\n",
    "            keys = countries_list[0].keys()\n",
    "            keys_list.extend(keys)\n",
    "\n",
    "keys_list = list(set(keys_list))  # Eliminar duplicados\n",
    "\n",
    "print(keys_list)\n"
   ]
  },
  {
   "cell_type": "code",
   "execution_count": 67,
   "metadata": {},
   "outputs": [
    {
     "name": "stdout",
     "output_type": "stream",
     "text": [
      "movies_id                   0\n",
      "budget                      0\n",
      "original_language          11\n",
      "overview                  941\n",
      "popularity                  0\n",
      "production_companies        0\n",
      "production_countries        0\n",
      "release_date                0\n",
      "revenue                     0\n",
      "runtime                   246\n",
      "status                     80\n",
      "tagline                 25092\n",
      "title                       0\n",
      "vote_average                0\n",
      "vote_count                  0\n",
      "collection_id           41062\n",
      "collection_name         41062\n",
      "genres                      1\n",
      "iso_639_1                   1\n",
      "name                        1\n",
      "release_year                0\n",
      "return                      0\n",
      "dtype: int64\n"
     ]
    }
   ],
   "source": [
    "null_counts = merged_df.isnull().sum()\n",
    "print(null_counts)\n"
   ]
  },
  {
   "cell_type": "code",
   "execution_count": 68,
   "metadata": {},
   "outputs": [
    {
     "name": "stdout",
     "output_type": "stream",
     "text": [
      "   movies_id    budget original_language  \\\n",
      "0        862  30000000                en   \n",
      "\n",
      "                                            overview popularity  \\\n",
      "0  Led by Woody, Andy's toys live happily in his ...  21.946943   \n",
      "\n",
      "                             production_companies  \\\n",
      "0  [{'name': 'Pixar Animation Studios', 'id': 3}]   \n",
      "\n",
      "                                production_countries release_date  \\\n",
      "0  [{'iso_3166_1': 'US', 'name': 'United States o...   1995-10-30   \n",
      "\n",
      "       revenue  runtime  ...      title vote_average vote_count  \\\n",
      "0  373554033.0     81.0  ...  Toy Story          7.7     5415.0   \n",
      "\n",
      "   collection_id       collection_name                       genres iso_639_1  \\\n",
      "0        10194.0  Toy Story Collection  [Animation, Comedy, Family]      [en]   \n",
      "\n",
      "        name release_year     return  \n",
      "0  [English]         1995  12.451801  \n",
      "\n",
      "[1 rows x 22 columns]\n"
     ]
    }
   ],
   "source": [
    "##realizamos una pequeña prueba de busqueda\n",
    "movie_id = 862 # Reemplaza 123 con el ID de la película que deseas buscar\n",
    "\n",
    "movie_data = merged_df.loc[merged_df['movies_id'] == movie_id]\n",
    "if not movie_data.empty:\n",
    "    print(movie_data)\n",
    "else:\n",
    "    print(\"No se encontró ninguna película con el ID especificado.\")"
   ]
  },
  {
   "cell_type": "code",
   "execution_count": 120,
   "metadata": {},
   "outputs": [],
   "source": [
    "df_movies.to_csv('..\\datasets_crudos_CSV\\movies_prueba.csv')"
   ]
  },
  {
   "attachments": {},
   "cell_type": "markdown",
   "metadata": {},
   "source": [
    "# Cargamos los datos del DATASET CREDITS"
   ]
  },
  {
   "cell_type": "code",
   "execution_count": 69,
   "metadata": {},
   "outputs": [
    {
     "data": {
      "text/html": [
       "<div>\n",
       "<style scoped>\n",
       "    .dataframe tbody tr th:only-of-type {\n",
       "        vertical-align: middle;\n",
       "    }\n",
       "\n",
       "    .dataframe tbody tr th {\n",
       "        vertical-align: top;\n",
       "    }\n",
       "\n",
       "    .dataframe thead th {\n",
       "        text-align: right;\n",
       "    }\n",
       "</style>\n",
       "<table border=\"1\" class=\"dataframe\">\n",
       "  <thead>\n",
       "    <tr style=\"text-align: right;\">\n",
       "      <th></th>\n",
       "      <th>cast</th>\n",
       "      <th>crew</th>\n",
       "      <th>id</th>\n",
       "    </tr>\n",
       "  </thead>\n",
       "  <tbody>\n",
       "    <tr>\n",
       "      <th>0</th>\n",
       "      <td>[{'cast_id': 14, 'character': 'Woody (voice)',...</td>\n",
       "      <td>[{'credit_id': '52fe4284c3a36847f8024f49', 'de...</td>\n",
       "      <td>862</td>\n",
       "    </tr>\n",
       "    <tr>\n",
       "      <th>1</th>\n",
       "      <td>[{'cast_id': 1, 'character': 'Alan Parrish', '...</td>\n",
       "      <td>[{'credit_id': '52fe44bfc3a36847f80a7cd1', 'de...</td>\n",
       "      <td>8844</td>\n",
       "    </tr>\n",
       "    <tr>\n",
       "      <th>2</th>\n",
       "      <td>[{'cast_id': 2, 'character': 'Max Goldman', 'c...</td>\n",
       "      <td>[{'credit_id': '52fe466a9251416c75077a89', 'de...</td>\n",
       "      <td>15602</td>\n",
       "    </tr>\n",
       "    <tr>\n",
       "      <th>3</th>\n",
       "      <td>[{'cast_id': 1, 'character': \"Savannah 'Vannah...</td>\n",
       "      <td>[{'credit_id': '52fe44779251416c91011acb', 'de...</td>\n",
       "      <td>31357</td>\n",
       "    </tr>\n",
       "    <tr>\n",
       "      <th>4</th>\n",
       "      <td>[{'cast_id': 1, 'character': 'George Banks', '...</td>\n",
       "      <td>[{'credit_id': '52fe44959251416c75039ed7', 'de...</td>\n",
       "      <td>11862</td>\n",
       "    </tr>\n",
       "  </tbody>\n",
       "</table>\n",
       "</div>"
      ],
      "text/plain": [
       "                                                cast  \\\n",
       "0  [{'cast_id': 14, 'character': 'Woody (voice)',...   \n",
       "1  [{'cast_id': 1, 'character': 'Alan Parrish', '...   \n",
       "2  [{'cast_id': 2, 'character': 'Max Goldman', 'c...   \n",
       "3  [{'cast_id': 1, 'character': \"Savannah 'Vannah...   \n",
       "4  [{'cast_id': 1, 'character': 'George Banks', '...   \n",
       "\n",
       "                                                crew     id  \n",
       "0  [{'credit_id': '52fe4284c3a36847f8024f49', 'de...    862  \n",
       "1  [{'credit_id': '52fe44bfc3a36847f80a7cd1', 'de...   8844  \n",
       "2  [{'credit_id': '52fe466a9251416c75077a89', 'de...  15602  \n",
       "3  [{'credit_id': '52fe44779251416c91011acb', 'de...  31357  \n",
       "4  [{'credit_id': '52fe44959251416c75039ed7', 'de...  11862  "
      ]
     },
     "execution_count": 69,
     "metadata": {},
     "output_type": "execute_result"
    }
   ],
   "source": [
    "credits = pd.read_csv('..\\datasets_crudos_CSV\\credits.csv')\n",
    "credits.head()"
   ]
  },
  {
   "cell_type": "code",
   "execution_count": 70,
   "metadata": {},
   "outputs": [
    {
     "data": {
      "text/html": [
       "<div>\n",
       "<style scoped>\n",
       "    .dataframe tbody tr th:only-of-type {\n",
       "        vertical-align: middle;\n",
       "    }\n",
       "\n",
       "    .dataframe tbody tr th {\n",
       "        vertical-align: top;\n",
       "    }\n",
       "\n",
       "    .dataframe thead th {\n",
       "        text-align: right;\n",
       "    }\n",
       "</style>\n",
       "<table border=\"1\" class=\"dataframe\">\n",
       "  <thead>\n",
       "    <tr style=\"text-align: right;\">\n",
       "      <th></th>\n",
       "      <th>cast</th>\n",
       "      <th>crew</th>\n",
       "      <th>movies_id</th>\n",
       "    </tr>\n",
       "  </thead>\n",
       "  <tbody>\n",
       "    <tr>\n",
       "      <th>0</th>\n",
       "      <td>[{'cast_id': 14, 'character': 'Woody (voice)',...</td>\n",
       "      <td>[{'credit_id': '52fe4284c3a36847f8024f49', 'de...</td>\n",
       "      <td>862</td>\n",
       "    </tr>\n",
       "    <tr>\n",
       "      <th>1</th>\n",
       "      <td>[{'cast_id': 1, 'character': 'Alan Parrish', '...</td>\n",
       "      <td>[{'credit_id': '52fe44bfc3a36847f80a7cd1', 'de...</td>\n",
       "      <td>8844</td>\n",
       "    </tr>\n",
       "    <tr>\n",
       "      <th>2</th>\n",
       "      <td>[{'cast_id': 2, 'character': 'Max Goldman', 'c...</td>\n",
       "      <td>[{'credit_id': '52fe466a9251416c75077a89', 'de...</td>\n",
       "      <td>15602</td>\n",
       "    </tr>\n",
       "    <tr>\n",
       "      <th>3</th>\n",
       "      <td>[{'cast_id': 1, 'character': \"Savannah 'Vannah...</td>\n",
       "      <td>[{'credit_id': '52fe44779251416c91011acb', 'de...</td>\n",
       "      <td>31357</td>\n",
       "    </tr>\n",
       "    <tr>\n",
       "      <th>4</th>\n",
       "      <td>[{'cast_id': 1, 'character': 'George Banks', '...</td>\n",
       "      <td>[{'credit_id': '52fe44959251416c75039ed7', 'de...</td>\n",
       "      <td>11862</td>\n",
       "    </tr>\n",
       "  </tbody>\n",
       "</table>\n",
       "</div>"
      ],
      "text/plain": [
       "                                                cast  \\\n",
       "0  [{'cast_id': 14, 'character': 'Woody (voice)',...   \n",
       "1  [{'cast_id': 1, 'character': 'Alan Parrish', '...   \n",
       "2  [{'cast_id': 2, 'character': 'Max Goldman', 'c...   \n",
       "3  [{'cast_id': 1, 'character': \"Savannah 'Vannah...   \n",
       "4  [{'cast_id': 1, 'character': 'George Banks', '...   \n",
       "\n",
       "                                                crew  movies_id  \n",
       "0  [{'credit_id': '52fe4284c3a36847f8024f49', 'de...        862  \n",
       "1  [{'credit_id': '52fe44bfc3a36847f80a7cd1', 'de...       8844  \n",
       "2  [{'credit_id': '52fe466a9251416c75077a89', 'de...      15602  \n",
       "3  [{'credit_id': '52fe44779251416c91011acb', 'de...      31357  \n",
       "4  [{'credit_id': '52fe44959251416c75039ed7', 'de...      11862  "
      ]
     },
     "execution_count": 70,
     "metadata": {},
     "output_type": "execute_result"
    }
   ],
   "source": [
    "#renombramos la columna id por movies_id\n",
    "credits.rename(columns={'id': 'movies_id'}, inplace=True)\n",
    "credits.head()"
   ]
  },
  {
   "cell_type": "code",
   "execution_count": 4,
   "metadata": {},
   "outputs": [],
   "source": [
    "# '''Creamos un función para hacer una prueba de buscar el contenido de las columnas\n",
    "# buscando mendiante el id'''\n",
    "# def buscar_contenido(id):\n",
    "#     # Filtrar las filas con el ID especificado\n",
    "#     filtro = credits['id'] == id\n",
    "#     resultado = credits[filtro]\n",
    "    \n",
    "#     if len(resultado) == 0:\n",
    "#         print(f\"No se encontró ningún registro con el ID {id}\")\n",
    "#     else:\n",
    "#         # Obtener el contenido del campo \"Cast\" y \"Crew\"\n",
    "#         cast = resultado['cast'].iloc[0]\n",
    "#         crew = resultado['crew'].iloc[0]\n",
    "        \n",
    "#         print(f\"Contenido del campo 'Cast' para el ID {id}:\")\n",
    "#         print(cast)\n",
    "#         print()\n",
    "        \n",
    "#         print(f\"Contenido del campo 'Crew' para el ID {id}:\")\n",
    "#         print(crew)\n",
    "\n",
    "\n"
   ]
  },
  {
   "cell_type": "code",
   "execution_count": 71,
   "metadata": {},
   "outputs": [
    {
     "name": "stdout",
     "output_type": "stream",
     "text": [
      "['order', 'name', 'cast_id', 'profile_path', 'gender', 'id', 'character', 'credit_id']\n"
     ]
    }
   ],
   "source": [
    "'''Hemos observado que el dataset credits, contiene 3 columnas: id, cast, crew\n",
    "pero cast y crew contiene diccionarios, lo que vamos a realizar es identificar las claves valores,\n",
    "para luego realizar la separación de los datos'''\n",
    "keys_list = [] # creamos una lista vacía\n",
    "\n",
    "for row in credits['cast']: # iterar cada diccionario identificando la clave valor\n",
    "    try:\n",
    "        cast_list = ast.literal_eval(row)\n",
    "        if isinstance(cast_list, list) and len(cast_list) > 0:\n",
    "            keys = cast_list[0].keys()\n",
    "            keys_list.extend(keys)\n",
    "    except (SyntaxError, ValueError):\n",
    "        pass\n",
    "\n",
    "keys_list = list(set(keys_list))  # Eliminar duplicados\n",
    "\n",
    "print(keys_list)\n"
   ]
  },
  {
   "cell_type": "code",
   "execution_count": 72,
   "metadata": {},
   "outputs": [],
   "source": [
    "'''Despues de identificar las claves valores, vamos a proceder a desanidar los datos\n",
    "para luego guardarlos a un nuevo dataframe'''\n",
    "# Obtener las claves de los diccionarios\n",
    "keys = ['id', 'cast_id', 'profile_path', 'credit_id', 'name', 'order', 'gender', 'character']\n",
    "\n",
    "# Crear un DataFrame vacío con las columnas correspondientes a las claves y \"movies_id\"\n",
    "new_df_cast = pd.DataFrame(columns=keys + ['movies_id'])\n",
    "\n",
    "# Iterar sobre cada fila del dataframe \"credits\"\n",
    "for index, row in credits.iterrows():\n",
    "    try:\n",
    "        cast_list = ast.literal_eval(row['cast'])\n",
    "        if isinstance(cast_list, list) and len(cast_list) > 0:\n",
    "            # Crear un diccionario temporal para almacenar los valores de cada clave\n",
    "            temp_dict = {}\n",
    "            \n",
    "            # Obtener los valores de las claves para cada diccionario en la lista\n",
    "            for key in keys:\n",
    "                temp_dict[key] = [cast[key] if key in cast else None for cast in cast_list]\n",
    "            \n",
    "            # Agregar el valor de \"movies_id\" en cada fila\n",
    "            temp_dict['movies_id'] = [row['movies_id']] * len(cast_list)\n",
    "            \n",
    "            # Convertir el diccionario temporal en un DataFrame y agregarlo al DataFrame final\n",
    "            temp_df = pd.DataFrame(temp_dict)\n",
    "            new_df_cast = pd.concat([new_df_cast, temp_df], ignore_index=True)\n",
    "    except (SyntaxError, ValueError):\n",
    "        pass\n"
   ]
  },
  {
   "cell_type": "code",
   "execution_count": 73,
   "metadata": {},
   "outputs": [
    {
     "data": {
      "text/html": [
       "<div>\n",
       "<style scoped>\n",
       "    .dataframe tbody tr th:only-of-type {\n",
       "        vertical-align: middle;\n",
       "    }\n",
       "\n",
       "    .dataframe tbody tr th {\n",
       "        vertical-align: top;\n",
       "    }\n",
       "\n",
       "    .dataframe thead th {\n",
       "        text-align: right;\n",
       "    }\n",
       "</style>\n",
       "<table border=\"1\" class=\"dataframe\">\n",
       "  <thead>\n",
       "    <tr style=\"text-align: right;\">\n",
       "      <th></th>\n",
       "      <th>movies_id</th>\n",
       "      <th>id</th>\n",
       "      <th>cast_id</th>\n",
       "      <th>profile_path</th>\n",
       "      <th>credit_id</th>\n",
       "      <th>name</th>\n",
       "      <th>order</th>\n",
       "      <th>gender</th>\n",
       "      <th>character</th>\n",
       "    </tr>\n",
       "  </thead>\n",
       "  <tbody>\n",
       "    <tr>\n",
       "      <th>0</th>\n",
       "      <td>862</td>\n",
       "      <td>31</td>\n",
       "      <td>14</td>\n",
       "      <td>/pQFoyx7rp09CJTAb932F2g8Nlho.jpg</td>\n",
       "      <td>52fe4284c3a36847f8024f95</td>\n",
       "      <td>Tom Hanks</td>\n",
       "      <td>0</td>\n",
       "      <td>2</td>\n",
       "      <td>Woody (voice)</td>\n",
       "    </tr>\n",
       "    <tr>\n",
       "      <th>1</th>\n",
       "      <td>862</td>\n",
       "      <td>12898</td>\n",
       "      <td>15</td>\n",
       "      <td>/uX2xVf6pMmPepxnvFWyBtjexzgY.jpg</td>\n",
       "      <td>52fe4284c3a36847f8024f99</td>\n",
       "      <td>Tim Allen</td>\n",
       "      <td>1</td>\n",
       "      <td>2</td>\n",
       "      <td>Buzz Lightyear (voice)</td>\n",
       "    </tr>\n",
       "    <tr>\n",
       "      <th>2</th>\n",
       "      <td>862</td>\n",
       "      <td>7167</td>\n",
       "      <td>16</td>\n",
       "      <td>/h5BcaDMPRVLHLDzbQavec4xfSdt.jpg</td>\n",
       "      <td>52fe4284c3a36847f8024f9d</td>\n",
       "      <td>Don Rickles</td>\n",
       "      <td>2</td>\n",
       "      <td>2</td>\n",
       "      <td>Mr. Potato Head (voice)</td>\n",
       "    </tr>\n",
       "    <tr>\n",
       "      <th>3</th>\n",
       "      <td>862</td>\n",
       "      <td>12899</td>\n",
       "      <td>17</td>\n",
       "      <td>/eIo2jVVXYgjDtaHoF19Ll9vtW7h.jpg</td>\n",
       "      <td>52fe4284c3a36847f8024fa1</td>\n",
       "      <td>Jim Varney</td>\n",
       "      <td>3</td>\n",
       "      <td>2</td>\n",
       "      <td>Slinky Dog (voice)</td>\n",
       "    </tr>\n",
       "    <tr>\n",
       "      <th>4</th>\n",
       "      <td>862</td>\n",
       "      <td>12900</td>\n",
       "      <td>18</td>\n",
       "      <td>/oGE6JqPP2xH4tNORKNqxbNPYi7u.jpg</td>\n",
       "      <td>52fe4284c3a36847f8024fa5</td>\n",
       "      <td>Wallace Shawn</td>\n",
       "      <td>4</td>\n",
       "      <td>2</td>\n",
       "      <td>Rex (voice)</td>\n",
       "    </tr>\n",
       "  </tbody>\n",
       "</table>\n",
       "</div>"
      ],
      "text/plain": [
       "  movies_id     id cast_id                      profile_path  \\\n",
       "0       862     31      14  /pQFoyx7rp09CJTAb932F2g8Nlho.jpg   \n",
       "1       862  12898      15  /uX2xVf6pMmPepxnvFWyBtjexzgY.jpg   \n",
       "2       862   7167      16  /h5BcaDMPRVLHLDzbQavec4xfSdt.jpg   \n",
       "3       862  12899      17  /eIo2jVVXYgjDtaHoF19Ll9vtW7h.jpg   \n",
       "4       862  12900      18  /oGE6JqPP2xH4tNORKNqxbNPYi7u.jpg   \n",
       "\n",
       "                  credit_id           name order gender  \\\n",
       "0  52fe4284c3a36847f8024f95      Tom Hanks     0      2   \n",
       "1  52fe4284c3a36847f8024f99      Tim Allen     1      2   \n",
       "2  52fe4284c3a36847f8024f9d    Don Rickles     2      2   \n",
       "3  52fe4284c3a36847f8024fa1     Jim Varney     3      2   \n",
       "4  52fe4284c3a36847f8024fa5  Wallace Shawn     4      2   \n",
       "\n",
       "                 character  \n",
       "0            Woody (voice)  \n",
       "1   Buzz Lightyear (voice)  \n",
       "2  Mr. Potato Head (voice)  \n",
       "3       Slinky Dog (voice)  \n",
       "4              Rex (voice)  "
      ]
     },
     "execution_count": 73,
     "metadata": {},
     "output_type": "execute_result"
    }
   ],
   "source": [
    "\n",
    "# Reordenar las columnas\n",
    "new_df_cast = new_df_cast.reindex(columns=['movies_id', 'id', 'cast_id', 'profile_path', 'credit_id', 'name', 'order', 'gender', 'character'])\n",
    "# Verificar el nuevo DataFrame resultante\n",
    "new_df_cast.head()"
   ]
  },
  {
   "cell_type": "code",
   "execution_count": 74,
   "metadata": {},
   "outputs": [],
   "source": [
    "#guardamos nuestro dataframe con el nombre de cast.csv\n",
    "new_df_cast.to_csv('../datasets_crudos_CSV/cast.csv', index=False)"
   ]
  },
  {
   "cell_type": "code",
   "execution_count": 75,
   "metadata": {},
   "outputs": [
    {
     "name": "stdout",
     "output_type": "stream",
     "text": [
      "Cantidad de filas: 562474\n",
      "Cantidad de columnas: 9\n"
     ]
    }
   ],
   "source": [
    "# Obtener la cantidad de filas y columnas del dataframe cast\n",
    "num_rows = new_df_cast.shape[0]\n",
    "num_cols = new_df_cast.shape[1]\n",
    "\n",
    "# Imprimir la cantidad total de filas y columnas\n",
    "print(\"Cantidad de filas:\", num_rows)\n",
    "print(\"Cantidad de columnas:\", num_cols)"
   ]
  },
  {
   "cell_type": "code",
   "execution_count": 76,
   "metadata": {},
   "outputs": [
    {
     "name": "stdout",
     "output_type": "stream",
     "text": [
      "['department', 'name', 'profile_path', 'job', 'gender', 'id', 'credit_id']\n"
     ]
    }
   ],
   "source": [
    "'''Despues de realizar el proceso de obtener las claves valores de los diccionarios \n",
    "de la columna cast, aplicamos lo mismo para la columna crew'''\n",
    "keys_list = [] #creamos una lista vacía\n",
    "\n",
    "for row in credits['crew']:#iteramos para identificar las claves valores\n",
    "    try:\n",
    "        crew_list = ast.literal_eval(row)\n",
    "        if isinstance(crew_list, list) and len(crew_list) > 0:\n",
    "            keys = crew_list[0].keys()\n",
    "            keys_list.extend(keys)\n",
    "    except (SyntaxError, ValueError):\n",
    "        pass\n",
    "\n",
    "keys_list = list(set(keys_list))  # Eliminar duplicados\n",
    "\n",
    "print(keys_list)"
   ]
  },
  {
   "cell_type": "code",
   "execution_count": 77,
   "metadata": {},
   "outputs": [],
   "source": [
    "'''Ahora procedemos a realizar los pasos para desanidar los datos, ahora de la columna crew\n",
    "y despues guardarlos a un dataframe nuevo'''\n",
    "\n",
    "# Obtener las claves de los diccionarios\n",
    "keys = ['id', 'department', 'profile_path', 'credit_id', 'name', 'gender', 'job']\n",
    "\n",
    "# Crear un DataFrame vacío con las columnas correspondientes a las claves\n",
    "new_df_crew = pd.DataFrame(columns=keys + ['movies_id'])\n",
    "\n",
    "# Iterar sobre cada fila de la columna \"crew\" y separar los datos en columnas\n",
    "for index, row in credits.iterrows():\n",
    "    try:\n",
    "        crew_list = ast.literal_eval(row['crew'])\n",
    "        if isinstance(crew_list, list) and len(crew_list) > 0:\n",
    "            # Crear un diccionario temporal para almacenar los valores de cada clave\n",
    "            temp_dict = {}\n",
    "            \n",
    "            # Obtener los valores de las claves para cada diccionario en la lista\n",
    "            for key in keys:\n",
    "                temp_dict[key] = [crew[key] if key in crew else None for crew in crew_list]\n",
    "            \n",
    "            # Agregar el valor de movies_id para cada fila\n",
    "            temp_dict['movies_id'] = [row['movies_id']] * len(crew_list)\n",
    "            \n",
    "            # Convertir el diccionario temporal en un DataFrame y agregarlo al DataFrame final\n",
    "            temp_df = pd.DataFrame(temp_dict)\n",
    "            new_df_crew = pd.concat([new_df_crew, temp_df], ignore_index=True)\n",
    "    except (SyntaxError, ValueError):\n",
    "        pass\n",
    "\n"
   ]
  },
  {
   "cell_type": "code",
   "execution_count": 78,
   "metadata": {},
   "outputs": [
    {
     "data": {
      "text/html": [
       "<div>\n",
       "<style scoped>\n",
       "    .dataframe tbody tr th:only-of-type {\n",
       "        vertical-align: middle;\n",
       "    }\n",
       "\n",
       "    .dataframe tbody tr th {\n",
       "        vertical-align: top;\n",
       "    }\n",
       "\n",
       "    .dataframe thead th {\n",
       "        text-align: right;\n",
       "    }\n",
       "</style>\n",
       "<table border=\"1\" class=\"dataframe\">\n",
       "  <thead>\n",
       "    <tr style=\"text-align: right;\">\n",
       "      <th></th>\n",
       "      <th>id</th>\n",
       "      <th>department</th>\n",
       "      <th>profile_path</th>\n",
       "      <th>credit_id</th>\n",
       "      <th>name</th>\n",
       "      <th>gender</th>\n",
       "      <th>job</th>\n",
       "      <th>movies_id</th>\n",
       "    </tr>\n",
       "  </thead>\n",
       "  <tbody>\n",
       "    <tr>\n",
       "      <th>0</th>\n",
       "      <td>7879</td>\n",
       "      <td>Directing</td>\n",
       "      <td>/7EdqiNbr4FRjIhKHyPPdFfEEEFG.jpg</td>\n",
       "      <td>52fe4284c3a36847f8024f49</td>\n",
       "      <td>John Lasseter</td>\n",
       "      <td>2</td>\n",
       "      <td>Director</td>\n",
       "      <td>862</td>\n",
       "    </tr>\n",
       "    <tr>\n",
       "      <th>1</th>\n",
       "      <td>12891</td>\n",
       "      <td>Writing</td>\n",
       "      <td>/dTiVsuaTVTeGmvkhcyJvKp2A5kr.jpg</td>\n",
       "      <td>52fe4284c3a36847f8024f4f</td>\n",
       "      <td>Joss Whedon</td>\n",
       "      <td>2</td>\n",
       "      <td>Screenplay</td>\n",
       "      <td>862</td>\n",
       "    </tr>\n",
       "    <tr>\n",
       "      <th>2</th>\n",
       "      <td>7</td>\n",
       "      <td>Writing</td>\n",
       "      <td>/pvQWsu0qc8JFQhMVJkTHuexUAa1.jpg</td>\n",
       "      <td>52fe4284c3a36847f8024f55</td>\n",
       "      <td>Andrew Stanton</td>\n",
       "      <td>2</td>\n",
       "      <td>Screenplay</td>\n",
       "      <td>862</td>\n",
       "    </tr>\n",
       "    <tr>\n",
       "      <th>3</th>\n",
       "      <td>12892</td>\n",
       "      <td>Writing</td>\n",
       "      <td>/dAubAiZcvKFbboWlj7oXOkZnTSu.jpg</td>\n",
       "      <td>52fe4284c3a36847f8024f5b</td>\n",
       "      <td>Joel Cohen</td>\n",
       "      <td>2</td>\n",
       "      <td>Screenplay</td>\n",
       "      <td>862</td>\n",
       "    </tr>\n",
       "    <tr>\n",
       "      <th>4</th>\n",
       "      <td>12893</td>\n",
       "      <td>Writing</td>\n",
       "      <td>/v79vlRYi94BZUQnkkyznbGUZLjT.jpg</td>\n",
       "      <td>52fe4284c3a36847f8024f61</td>\n",
       "      <td>Alec Sokolow</td>\n",
       "      <td>0</td>\n",
       "      <td>Screenplay</td>\n",
       "      <td>862</td>\n",
       "    </tr>\n",
       "  </tbody>\n",
       "</table>\n",
       "</div>"
      ],
      "text/plain": [
       "      id department                      profile_path  \\\n",
       "0   7879  Directing  /7EdqiNbr4FRjIhKHyPPdFfEEEFG.jpg   \n",
       "1  12891    Writing  /dTiVsuaTVTeGmvkhcyJvKp2A5kr.jpg   \n",
       "2      7    Writing  /pvQWsu0qc8JFQhMVJkTHuexUAa1.jpg   \n",
       "3  12892    Writing  /dAubAiZcvKFbboWlj7oXOkZnTSu.jpg   \n",
       "4  12893    Writing  /v79vlRYi94BZUQnkkyznbGUZLjT.jpg   \n",
       "\n",
       "                  credit_id            name gender         job movies_id  \n",
       "0  52fe4284c3a36847f8024f49   John Lasseter      2    Director       862  \n",
       "1  52fe4284c3a36847f8024f4f     Joss Whedon      2  Screenplay       862  \n",
       "2  52fe4284c3a36847f8024f55  Andrew Stanton      2  Screenplay       862  \n",
       "3  52fe4284c3a36847f8024f5b      Joel Cohen      2  Screenplay       862  \n",
       "4  52fe4284c3a36847f8024f61    Alec Sokolow      0  Screenplay       862  "
      ]
     },
     "execution_count": 78,
     "metadata": {},
     "output_type": "execute_result"
    }
   ],
   "source": [
    "# Verificar el resultado\n",
    "new_df_crew.head()"
   ]
  },
  {
   "cell_type": "code",
   "execution_count": 79,
   "metadata": {},
   "outputs": [
    {
     "name": "stdout",
     "output_type": "stream",
     "text": [
      "Cantidad de filas: 464314\n",
      "Cantidad de columnas: 8\n"
     ]
    }
   ],
   "source": [
    "# Obtener la cantidad de filas y columnas crew\n",
    "num_rows = new_df_crew.shape[0]\n",
    "num_cols = new_df_crew.shape[1]\n",
    "\n",
    "# Imprimir la cantidad total de filas y columnas\n",
    "print(\"Cantidad de filas:\", num_rows)\n",
    "print(\"Cantidad de columnas:\", num_cols)"
   ]
  },
  {
   "cell_type": "code",
   "execution_count": 80,
   "metadata": {},
   "outputs": [],
   "source": [
    "#guardamos nuestro dataframe como crew.csv\n",
    "new_df_crew.to_csv('../datasets_crudos_CSV/crew.csv', index=False)"
   ]
  },
  {
   "cell_type": "code",
   "execution_count": 81,
   "metadata": {},
   "outputs": [
    {
     "name": "stderr",
     "output_type": "stream",
     "text": [
      "C:\\Users\\Ricky Quinteros\\AppData\\Local\\Temp\\ipykernel_11040\\3892713818.py:2: FutureWarning: In a future version, the Index constructor will not infer numeric dtypes when passed object-dtype sequences (matching Series behavior)\n",
      "  combined_df = new_df_crew.merge(new_df_cast, on='movies_id', how='outer')\n"
     ]
    }
   ],
   "source": [
    "# Fusionar los dataframes utilizando la columna \"movies_id\" como clave de fusión\n",
    "combined_df = new_df_crew.merge(new_df_cast, on='movies_id', how='outer')\n",
    "\n"
   ]
  },
  {
   "cell_type": "code",
   "execution_count": 82,
   "metadata": {},
   "outputs": [],
   "source": [
    "#eliminar las columnas \"profile_path_x\" y \"profile_path_y\" del dataframe combined_df\n",
    "combined_df = combined_df.drop(['profile_path_x', 'profile_path_y'], axis=1)\n"
   ]
  },
  {
   "cell_type": "code",
   "execution_count": 83,
   "metadata": {},
   "outputs": [
    {
     "data": {
      "text/html": [
       "<div>\n",
       "<style scoped>\n",
       "    .dataframe tbody tr th:only-of-type {\n",
       "        vertical-align: middle;\n",
       "    }\n",
       "\n",
       "    .dataframe tbody tr th {\n",
       "        vertical-align: top;\n",
       "    }\n",
       "\n",
       "    .dataframe thead th {\n",
       "        text-align: right;\n",
       "    }\n",
       "</style>\n",
       "<table border=\"1\" class=\"dataframe\">\n",
       "  <thead>\n",
       "    <tr style=\"text-align: right;\">\n",
       "      <th></th>\n",
       "      <th>id_x</th>\n",
       "      <th>department</th>\n",
       "      <th>credit_id_x</th>\n",
       "      <th>name_x</th>\n",
       "      <th>gender_x</th>\n",
       "      <th>job</th>\n",
       "      <th>movies_id</th>\n",
       "      <th>id_y</th>\n",
       "      <th>cast_id</th>\n",
       "      <th>credit_id_y</th>\n",
       "      <th>name_y</th>\n",
       "      <th>order</th>\n",
       "      <th>gender_y</th>\n",
       "      <th>character</th>\n",
       "    </tr>\n",
       "  </thead>\n",
       "  <tbody>\n",
       "    <tr>\n",
       "      <th>0</th>\n",
       "      <td>7879</td>\n",
       "      <td>Directing</td>\n",
       "      <td>52fe4284c3a36847f8024f49</td>\n",
       "      <td>John Lasseter</td>\n",
       "      <td>2</td>\n",
       "      <td>Director</td>\n",
       "      <td>862.0</td>\n",
       "      <td>31</td>\n",
       "      <td>14</td>\n",
       "      <td>52fe4284c3a36847f8024f95</td>\n",
       "      <td>Tom Hanks</td>\n",
       "      <td>0</td>\n",
       "      <td>2</td>\n",
       "      <td>Woody (voice)</td>\n",
       "    </tr>\n",
       "    <tr>\n",
       "      <th>1</th>\n",
       "      <td>7879</td>\n",
       "      <td>Directing</td>\n",
       "      <td>52fe4284c3a36847f8024f49</td>\n",
       "      <td>John Lasseter</td>\n",
       "      <td>2</td>\n",
       "      <td>Director</td>\n",
       "      <td>862.0</td>\n",
       "      <td>12898</td>\n",
       "      <td>15</td>\n",
       "      <td>52fe4284c3a36847f8024f99</td>\n",
       "      <td>Tim Allen</td>\n",
       "      <td>1</td>\n",
       "      <td>2</td>\n",
       "      <td>Buzz Lightyear (voice)</td>\n",
       "    </tr>\n",
       "    <tr>\n",
       "      <th>2</th>\n",
       "      <td>7879</td>\n",
       "      <td>Directing</td>\n",
       "      <td>52fe4284c3a36847f8024f49</td>\n",
       "      <td>John Lasseter</td>\n",
       "      <td>2</td>\n",
       "      <td>Director</td>\n",
       "      <td>862.0</td>\n",
       "      <td>7167</td>\n",
       "      <td>16</td>\n",
       "      <td>52fe4284c3a36847f8024f9d</td>\n",
       "      <td>Don Rickles</td>\n",
       "      <td>2</td>\n",
       "      <td>2</td>\n",
       "      <td>Mr. Potato Head (voice)</td>\n",
       "    </tr>\n",
       "    <tr>\n",
       "      <th>3</th>\n",
       "      <td>7879</td>\n",
       "      <td>Directing</td>\n",
       "      <td>52fe4284c3a36847f8024f49</td>\n",
       "      <td>John Lasseter</td>\n",
       "      <td>2</td>\n",
       "      <td>Director</td>\n",
       "      <td>862.0</td>\n",
       "      <td>12899</td>\n",
       "      <td>17</td>\n",
       "      <td>52fe4284c3a36847f8024fa1</td>\n",
       "      <td>Jim Varney</td>\n",
       "      <td>3</td>\n",
       "      <td>2</td>\n",
       "      <td>Slinky Dog (voice)</td>\n",
       "    </tr>\n",
       "    <tr>\n",
       "      <th>4</th>\n",
       "      <td>7879</td>\n",
       "      <td>Directing</td>\n",
       "      <td>52fe4284c3a36847f8024f49</td>\n",
       "      <td>John Lasseter</td>\n",
       "      <td>2</td>\n",
       "      <td>Director</td>\n",
       "      <td>862.0</td>\n",
       "      <td>12900</td>\n",
       "      <td>18</td>\n",
       "      <td>52fe4284c3a36847f8024fa5</td>\n",
       "      <td>Wallace Shawn</td>\n",
       "      <td>4</td>\n",
       "      <td>2</td>\n",
       "      <td>Rex (voice)</td>\n",
       "    </tr>\n",
       "  </tbody>\n",
       "</table>\n",
       "</div>"
      ],
      "text/plain": [
       "   id_x department               credit_id_x         name_x gender_x  \\\n",
       "0  7879  Directing  52fe4284c3a36847f8024f49  John Lasseter        2   \n",
       "1  7879  Directing  52fe4284c3a36847f8024f49  John Lasseter        2   \n",
       "2  7879  Directing  52fe4284c3a36847f8024f49  John Lasseter        2   \n",
       "3  7879  Directing  52fe4284c3a36847f8024f49  John Lasseter        2   \n",
       "4  7879  Directing  52fe4284c3a36847f8024f49  John Lasseter        2   \n",
       "\n",
       "        job movies_id   id_y cast_id               credit_id_y         name_y  \\\n",
       "0  Director     862.0     31      14  52fe4284c3a36847f8024f95      Tom Hanks   \n",
       "1  Director     862.0  12898      15  52fe4284c3a36847f8024f99      Tim Allen   \n",
       "2  Director     862.0   7167      16  52fe4284c3a36847f8024f9d    Don Rickles   \n",
       "3  Director     862.0  12899      17  52fe4284c3a36847f8024fa1     Jim Varney   \n",
       "4  Director     862.0  12900      18  52fe4284c3a36847f8024fa5  Wallace Shawn   \n",
       "\n",
       "  order gender_y                character  \n",
       "0     0        2            Woody (voice)  \n",
       "1     1        2   Buzz Lightyear (voice)  \n",
       "2     2        2  Mr. Potato Head (voice)  \n",
       "3     3        2       Slinky Dog (voice)  \n",
       "4     4        2              Rex (voice)  "
      ]
     },
     "execution_count": 83,
     "metadata": {},
     "output_type": "execute_result"
    }
   ],
   "source": [
    "\n",
    "# Verificar el resultado\n",
    "combined_df.head()\n"
   ]
  },
  {
   "cell_type": "code",
   "execution_count": 84,
   "metadata": {},
   "outputs": [],
   "source": [
    "#renombrar las columnas en el dataframe combined_df\n",
    "combined_df = combined_df.rename(columns={'name_x': 'name_crew',\n",
    "                                          'name_y': 'name_cast',\n",
    "                                          'gender_x': 'gender_crew',\n",
    "                                          'gender_y': 'gender_cast',\n",
    "                                          'character': 'character_cast'})\n"
   ]
  },
  {
   "cell_type": "code",
   "execution_count": 85,
   "metadata": {},
   "outputs": [],
   "source": [
    "#ordenamos nuestras columnas\n",
    "column_order = ['movies_id', 'id_x', 'department', 'credit_id_x', 'name_crew', 'gender_crew', 'job',\n",
    "                'id_y', 'cast_id', 'credit_id_y', 'name_cast', 'order', 'gender_cast', 'character_cast']\n",
    "\n",
    "combined_df = combined_df.reindex(columns=column_order)\n",
    "\n"
   ]
  },
  {
   "cell_type": "code",
   "execution_count": 86,
   "metadata": {},
   "outputs": [],
   "source": [
    "#eliminamos estas columnas\n",
    "columns_to_drop = ['id_x', 'credit_id_x', 'id_y', 'cast_id', 'credit_id_y']\n",
    "combined_df = combined_df.drop(columns=columns_to_drop)"
   ]
  },
  {
   "cell_type": "code",
   "execution_count": 87,
   "metadata": {},
   "outputs": [
    {
     "data": {
      "text/html": [
       "<div>\n",
       "<style scoped>\n",
       "    .dataframe tbody tr th:only-of-type {\n",
       "        vertical-align: middle;\n",
       "    }\n",
       "\n",
       "    .dataframe tbody tr th {\n",
       "        vertical-align: top;\n",
       "    }\n",
       "\n",
       "    .dataframe thead th {\n",
       "        text-align: right;\n",
       "    }\n",
       "</style>\n",
       "<table border=\"1\" class=\"dataframe\">\n",
       "  <thead>\n",
       "    <tr style=\"text-align: right;\">\n",
       "      <th></th>\n",
       "      <th>movies_id</th>\n",
       "      <th>department</th>\n",
       "      <th>name_crew</th>\n",
       "      <th>gender_crew</th>\n",
       "      <th>job</th>\n",
       "      <th>name_cast</th>\n",
       "      <th>order</th>\n",
       "      <th>gender_cast</th>\n",
       "      <th>character_cast</th>\n",
       "    </tr>\n",
       "  </thead>\n",
       "  <tbody>\n",
       "    <tr>\n",
       "      <th>0</th>\n",
       "      <td>862.0</td>\n",
       "      <td>Directing</td>\n",
       "      <td>John Lasseter</td>\n",
       "      <td>2</td>\n",
       "      <td>Director</td>\n",
       "      <td>Tom Hanks</td>\n",
       "      <td>0</td>\n",
       "      <td>2</td>\n",
       "      <td>Woody (voice)</td>\n",
       "    </tr>\n",
       "    <tr>\n",
       "      <th>1</th>\n",
       "      <td>862.0</td>\n",
       "      <td>Directing</td>\n",
       "      <td>John Lasseter</td>\n",
       "      <td>2</td>\n",
       "      <td>Director</td>\n",
       "      <td>Tim Allen</td>\n",
       "      <td>1</td>\n",
       "      <td>2</td>\n",
       "      <td>Buzz Lightyear (voice)</td>\n",
       "    </tr>\n",
       "  </tbody>\n",
       "</table>\n",
       "</div>"
      ],
      "text/plain": [
       "  movies_id department      name_crew gender_crew       job  name_cast order  \\\n",
       "0     862.0  Directing  John Lasseter           2  Director  Tom Hanks     0   \n",
       "1     862.0  Directing  John Lasseter           2  Director  Tim Allen     1   \n",
       "\n",
       "  gender_cast          character_cast  \n",
       "0           2           Woody (voice)  \n",
       "1           2  Buzz Lightyear (voice)  "
      ]
     },
     "execution_count": 87,
     "metadata": {},
     "output_type": "execute_result"
    }
   ],
   "source": [
    "combined_df.head(2)"
   ]
  },
  {
   "cell_type": "code",
   "execution_count": 88,
   "metadata": {},
   "outputs": [
    {
     "name": "stdout",
     "output_type": "stream",
     "text": [
      "     movies_id  department       name_crew gender_crew                job  \\\n",
      "0        862.0   Directing   John Lasseter           2           Director   \n",
      "1        862.0   Directing   John Lasseter           2           Director   \n",
      "2        862.0   Directing   John Lasseter           2           Director   \n",
      "3        862.0   Directing   John Lasseter           2           Director   \n",
      "4        862.0   Directing   John Lasseter           2           Director   \n",
      "...        ...         ...             ...         ...                ...   \n",
      "1373     862.0  Production  Mickie McGowan           0  ADR Voice Casting   \n",
      "1374     862.0  Production  Mickie McGowan           0  ADR Voice Casting   \n",
      "1375     862.0  Production  Mickie McGowan           0  ADR Voice Casting   \n",
      "1376     862.0  Production  Mickie McGowan           0  ADR Voice Casting   \n",
      "1377     862.0  Production  Mickie McGowan           0  ADR Voice Casting   \n",
      "\n",
      "            name_cast order gender_cast           character_cast  \n",
      "0           Tom Hanks     0           2            Woody (voice)  \n",
      "1           Tim Allen     1           2   Buzz Lightyear (voice)  \n",
      "2         Don Rickles     2           2  Mr. Potato Head (voice)  \n",
      "3          Jim Varney     3           2       Slinky Dog (voice)  \n",
      "4       Wallace Shawn     4           2              Rex (voice)  \n",
      "...               ...   ...         ...                      ...  \n",
      "1373  Erik von Detten     8           2              Sid (voice)  \n",
      "1374   Laurie Metcalf     9           1       Mrs. Davis (voice)  \n",
      "1375     R. Lee Ermey    10           2         Sergeant (voice)  \n",
      "1376    Sarah Freeman    11           1           Hannah (voice)  \n",
      "1377    Penn Jillette    12           2     TV Announcer (voice)  \n",
      "\n",
      "[1378 rows x 9 columns]\n"
     ]
    }
   ],
   "source": [
    "#una prueba\n",
    "movie_id = 862  # Reemplaza 12345 con el movies_id de la película que deseas seleccionar\n",
    "\n",
    "selected_movie = combined_df.loc[combined_df['movies_id'] == movie_id]\n",
    "print(selected_movie)\n"
   ]
  },
  {
   "cell_type": "code",
   "execution_count": 89,
   "metadata": {},
   "outputs": [],
   "source": [
    "##guardamos el dataframe\n",
    "combined_df.to_csv('../datasets_crudos_CSV/credits_final.csv')"
   ]
  },
  {
   "cell_type": "code",
   "execution_count": 90,
   "metadata": {},
   "outputs": [
    {
     "data": {
      "text/html": [
       "<div>\n",
       "<style scoped>\n",
       "    .dataframe tbody tr th:only-of-type {\n",
       "        vertical-align: middle;\n",
       "    }\n",
       "\n",
       "    .dataframe tbody tr th {\n",
       "        vertical-align: top;\n",
       "    }\n",
       "\n",
       "    .dataframe thead th {\n",
       "        text-align: right;\n",
       "    }\n",
       "</style>\n",
       "<table border=\"1\" class=\"dataframe\">\n",
       "  <thead>\n",
       "    <tr style=\"text-align: right;\">\n",
       "      <th></th>\n",
       "      <th>movies_id</th>\n",
       "      <th>budget</th>\n",
       "      <th>original_language</th>\n",
       "      <th>overview</th>\n",
       "      <th>popularity</th>\n",
       "      <th>production_companies</th>\n",
       "      <th>production_countries</th>\n",
       "      <th>release_date</th>\n",
       "      <th>revenue</th>\n",
       "      <th>runtime</th>\n",
       "      <th>...</th>\n",
       "      <th>title</th>\n",
       "      <th>vote_average</th>\n",
       "      <th>vote_count</th>\n",
       "      <th>collection_id</th>\n",
       "      <th>collection_name</th>\n",
       "      <th>genres</th>\n",
       "      <th>iso_639_1</th>\n",
       "      <th>name</th>\n",
       "      <th>release_year</th>\n",
       "      <th>return</th>\n",
       "    </tr>\n",
       "  </thead>\n",
       "  <tbody>\n",
       "    <tr>\n",
       "      <th>0</th>\n",
       "      <td>862</td>\n",
       "      <td>30000000</td>\n",
       "      <td>en</td>\n",
       "      <td>Led by Woody, Andy's toys live happily in his ...</td>\n",
       "      <td>21.946943</td>\n",
       "      <td>[{'name': 'Pixar Animation Studios', 'id': 3}]</td>\n",
       "      <td>[{'iso_3166_1': 'US', 'name': 'United States o...</td>\n",
       "      <td>1995-10-30</td>\n",
       "      <td>373554033.0</td>\n",
       "      <td>81.0</td>\n",
       "      <td>...</td>\n",
       "      <td>Toy Story</td>\n",
       "      <td>7.7</td>\n",
       "      <td>5415.0</td>\n",
       "      <td>10194.0</td>\n",
       "      <td>Toy Story Collection</td>\n",
       "      <td>[Animation, Comedy, Family]</td>\n",
       "      <td>[en]</td>\n",
       "      <td>[English]</td>\n",
       "      <td>1995</td>\n",
       "      <td>12.451801</td>\n",
       "    </tr>\n",
       "    <tr>\n",
       "      <th>1</th>\n",
       "      <td>8844</td>\n",
       "      <td>65000000</td>\n",
       "      <td>en</td>\n",
       "      <td>When siblings Judy and Peter discover an encha...</td>\n",
       "      <td>17.015539</td>\n",
       "      <td>[{'name': 'TriStar Pictures', 'id': 559}, {'na...</td>\n",
       "      <td>[{'iso_3166_1': 'US', 'name': 'United States o...</td>\n",
       "      <td>1995-12-15</td>\n",
       "      <td>262797249.0</td>\n",
       "      <td>104.0</td>\n",
       "      <td>...</td>\n",
       "      <td>Jumanji</td>\n",
       "      <td>6.9</td>\n",
       "      <td>2413.0</td>\n",
       "      <td>NaN</td>\n",
       "      <td>NaN</td>\n",
       "      <td>[Adventure, Family, Fantasy]</td>\n",
       "      <td>[en, fr]</td>\n",
       "      <td>[English, Français]</td>\n",
       "      <td>1995</td>\n",
       "      <td>4.043035</td>\n",
       "    </tr>\n",
       "  </tbody>\n",
       "</table>\n",
       "<p>2 rows × 22 columns</p>\n",
       "</div>"
      ],
      "text/plain": [
       "   movies_id    budget original_language  \\\n",
       "0        862  30000000                en   \n",
       "1       8844  65000000                en   \n",
       "\n",
       "                                            overview popularity  \\\n",
       "0  Led by Woody, Andy's toys live happily in his ...  21.946943   \n",
       "1  When siblings Judy and Peter discover an encha...  17.015539   \n",
       "\n",
       "                                production_companies  \\\n",
       "0     [{'name': 'Pixar Animation Studios', 'id': 3}]   \n",
       "1  [{'name': 'TriStar Pictures', 'id': 559}, {'na...   \n",
       "\n",
       "                                production_countries release_date  \\\n",
       "0  [{'iso_3166_1': 'US', 'name': 'United States o...   1995-10-30   \n",
       "1  [{'iso_3166_1': 'US', 'name': 'United States o...   1995-12-15   \n",
       "\n",
       "       revenue  runtime  ...      title vote_average vote_count  \\\n",
       "0  373554033.0     81.0  ...  Toy Story          7.7     5415.0   \n",
       "1  262797249.0    104.0  ...    Jumanji          6.9     2413.0   \n",
       "\n",
       "   collection_id       collection_name                        genres  \\\n",
       "0        10194.0  Toy Story Collection   [Animation, Comedy, Family]   \n",
       "1            NaN                   NaN  [Adventure, Family, Fantasy]   \n",
       "\n",
       "  iso_639_1                 name release_year     return  \n",
       "0      [en]            [English]         1995  12.451801  \n",
       "1  [en, fr]  [English, Français]         1995   4.043035  \n",
       "\n",
       "[2 rows x 22 columns]"
      ]
     },
     "execution_count": 90,
     "metadata": {},
     "output_type": "execute_result"
    }
   ],
   "source": [
    "merged_df.head(2)"
   ]
  },
  {
   "cell_type": "code",
   "execution_count": 112,
   "metadata": {},
   "outputs": [
    {
     "name": "stdout",
     "output_type": "stream",
     "text": [
      "movies_id               0\n",
      "budget                  0\n",
      "original_language       0\n",
      "overview                0\n",
      "popularity              0\n",
      "production_companies    0\n",
      "production_countries    0\n",
      "release_date            0\n",
      "revenue                 0\n",
      "runtime                 0\n",
      "status                  0\n",
      "title                   0\n",
      "vote_average            0\n",
      "vote_count              0\n",
      "genres                  1\n",
      "iso_639_1               1\n",
      "name                    1\n",
      "release_year            0\n",
      "return                  0\n",
      "dtype: int64\n"
     ]
    }
   ],
   "source": [
    "# Verificar los valores nulos en merged_df\n",
    "null_counts = merged_df.isnull().sum()\n",
    "\n",
    "# Imprimir los valores nulos por columna\n",
    "print(null_counts)"
   ]
  },
  {
   "attachments": {},
   "cell_type": "markdown",
   "metadata": {},
   "source": [
    "'''verificamos los valores vacios de overview, ya que se observa que contiene una pequeña sipnosis\n",
    "de la pelicula, si eliminamos la filas vacias puede que se pierdad información así que reemplazaremos por\n",
    "sipnosis no disponible'''"
   ]
  },
  {
   "cell_type": "code",
   "execution_count": 94,
   "metadata": {},
   "outputs": [
    {
     "name": "stdout",
     "output_type": "stream",
     "text": [
      "[\"Led by Woody, Andy's toys live happily in his room until Andy's birthday brings Buzz Lightyear onto the scene. Afraid of losing his place in Andy's heart, Woody plots against Buzz. But when circumstances separate Buzz and Woody from their owner, the duo eventually learns to put aside their differences.\"\n",
      " \"When siblings Judy and Peter discover an enchanted board game that opens the door to a magical world, they unwittingly invite Alan -- an adult who's been trapped inside the game for 26 years -- into their living room. Alan's only hope for freedom is to finish the game, which proves risky as all three find themselves running from giant rhinoceroses, evil monkeys and other terrifying creatures.\"\n",
      " \"A family wedding reignites the ancient feud between next-door neighbors and fishing buddies John and Max. Meanwhile, a sultry Italian divorcée opens a restaurant at the local bait shop, alarming the locals who worry she'll scare the fish away. But she's less interested in seafood than she is in cooking up a hot time with Max.\"\n",
      " ...\n",
      " 'When one of her hits goes wrong, a professional assassin ends up with a suitcase full of a million dollars belonging to a mob boss ...'\n",
      " \"In a small town live two brothers, one a minister and the other one a hunchback painter of the chapel who lives with his wife. One dreadful and stormy night, a stranger knocks at the door asking for shelter. The stranger talks about all the good things of the earthly life the minister is missing because of his puritanical faith. The minister comes to accept the stranger's viewpoint but it is others who will pay the consequences because the minister will discover the human pleasures thanks to, ehem, his sister- in -law… The tormented minister and his cuckolded brother will die in a strange accident in the chapel and later an infant will be born from the minister's adulterous relationship.\"\n",
      " '50 years after decriminalisation of homosexuality in the UK, director Daisy Asquith mines the jewels of the BFI archive to take us into the relationships, desires, fears and expressions of gay men and women in the 20th century.']\n"
     ]
    }
   ],
   "source": [
    "# Explorar los valores únicos en la columna 'overview'\n",
    "unique_overviews = merged_df['overview'].unique()\n",
    "print(unique_overviews)\n"
   ]
  },
  {
   "cell_type": "code",
   "execution_count": 103,
   "metadata": {},
   "outputs": [],
   "source": [
    "# Reemplazar los valores vacíos en la columna 'overview' con \"Sin sinopsis disponible\"\n",
    "merged_df['overview'] = merged_df['overview'].fillna(\"Sin sinopsis disponible\")"
   ]
  },
  {
   "attachments": {},
   "cell_type": "markdown",
   "metadata": {},
   "source": [
    "'''en la columna de lenguajes se observa que cada pelicula tiene un idioma en la cual esta \n",
    "originado, para no perder datos, los espacios vaciós los reemplazamos por unknow'''"
   ]
  },
  {
   "cell_type": "code",
   "execution_count": 93,
   "metadata": {},
   "outputs": [
    {
     "name": "stdout",
     "output_type": "stream",
     "text": [
      "['en' 'fr' 'zh' 'it' 'fa' 'nl' 'de' 'cn' 'ar' 'es' 'ru' 'sv' 'ja' 'ko'\n",
      " 'sr' 'bn' 'he' 'pt' 'wo' 'ro' 'hu' 'cy' 'vi' 'cs' 'da' 'no' 'nb' 'pl'\n",
      " 'el' 'sh' 'xx' 'mk' 'bo' 'ca' 'fi' 'th' 'sk' 'bs' 'hi' 'tr' 'is' 'ps'\n",
      " 'ab' 'eo' 'ka' 'mn' 'bm' 'zu' 'uk' 'af' 'la' 'et' 'ku' 'fy' 'lv' 'ta'\n",
      " 'sl' 'tl' 'ur' 'rw' 'id' 'bg' 'mr' 'lt' 'kk' 'ms' 'sq' nan 'qu' 'te' 'am'\n",
      " 'jv' 'tg' 'ml' 'hr' 'lo' 'ay' 'kn' 'eu' 'ne' 'pa' 'ky' 'gl' 'uz' 'sm'\n",
      " 'mt' 'hy' 'iu' 'lb' 'si']\n"
     ]
    }
   ],
   "source": [
    "# Explorar los valores únicos en la columna 'original_language'\n",
    "unique_languages = merged_df['original_language'].unique()\n",
    "print(unique_languages)"
   ]
  },
  {
   "cell_type": "code",
   "execution_count": 104,
   "metadata": {},
   "outputs": [],
   "source": [
    "\n",
    "# Reemplazar los valores vacíos en la columna 'original_language' con un valor específico, por ejemplo 'Unknown'\n",
    "merged_df['original_language'] = merged_df['original_language'].fillna('Unknown')\n"
   ]
  },
  {
   "attachments": {},
   "cell_type": "markdown",
   "metadata": {},
   "source": [
    "'''En el caso de los valores de la columna runtime son datos numericos, vamos a reemplazar los valores nulos por el promedio para evitar que se pierdan datos de la data'''"
   ]
  },
  {
   "cell_type": "code",
   "execution_count": 95,
   "metadata": {},
   "outputs": [
    {
     "name": "stdout",
     "output_type": "stream",
     "text": [
      "[8.100e+01 1.040e+02 1.010e+02 1.270e+02 1.060e+02 1.700e+02 9.700e+01\n",
      " 1.300e+02 8.800e+01 7.800e+01 1.920e+02 1.190e+02 1.780e+02 1.360e+02\n",
      " 9.800e+01 9.000e+01 1.030e+02 1.050e+02 1.240e+02 1.320e+02 1.110e+02\n",
      " 1.120e+02 1.230e+02 1.000e+02 1.080e+02 9.900e+01 1.290e+02 5.000e+01\n",
      " 8.900e+01 1.210e+02 1.220e+02 5.100e+01 1.170e+02 1.160e+02 9.600e+01\n",
      " 9.300e+01 9.500e+01 1.150e+02 1.370e+02 9.200e+01 8.500e+01 9.100e+01\n",
      " 1.750e+02 8.700e+01 7.000e+01 1.180e+02 1.020e+02 1.350e+02 1.100e+02\n",
      " 1.770e+02 1.140e+02 1.130e+02 8.600e+01 1.250e+02 1.400e+02 1.390e+02\n",
      " 8.200e+01 8.300e+01 1.280e+02 1.090e+02 8.000e+01 1.340e+02 1.070e+02\n",
      " 9.400e+01 1.450e+02 7.300e+01 0.000e+00 7.700e+01 1.710e+02 1.330e+02\n",
      " 1.540e+02 1.620e+02 1.420e+02 1.260e+02 1.410e+02 1.800e+02 1.910e+02\n",
      " 6.100e+01 8.400e+01 1.440e+02 1.310e+02 1.380e+02 1.950e+02 1.870e+02\n",
      " 7.600e+01 1.200e+02 1.600e+02 1.810e+02 6.000e+01       nan 7.900e+01\n",
      " 2.500e+01 7.500e+01 7.400e+01 3.000e+01 1.490e+02 7.100e+01 2.380e+02\n",
      " 2.010e+02 1.670e+02 6.500e+01 1.430e+02 6.400e+01 1.740e+02 1.470e+02\n",
      " 1.510e+02 6.900e+01 6.000e+00 6.200e+01 1.610e+02 2.160e+02 1.530e+02\n",
      " 1.680e+02 2.000e+02 2.300e+01 2.290e+02 1.930e+02 1.630e+02 6.800e+01\n",
      " 1.720e+02 1.830e+02 2.120e+02 2.870e+02 1.590e+02 1.500e+02 2.420e+02\n",
      " 7.200e+01 1.550e+02 1.940e+02 4.400e+01 1.760e+02 1.520e+02 2.070e+02\n",
      " 1.640e+02 1.690e+02 1.970e+02 1.880e+02 8.000e+00 5.200e+01 6.300e+01\n",
      " 1.800e+01 1.820e+02 6.700e+01 1.840e+02 1.980e+02 1.560e+02 2.700e+01\n",
      " 1.570e+02 1.480e+02 1.580e+02 1.890e+02 1.460e+02 5.600e+01 2.020e+02\n",
      " 3.300e+01 1.650e+02 5.000e+00 2.980e+02 4.200e+01 2.540e+02 1.990e+02\n",
      " 2.170e+02 2.480e+02 1.730e+02 5.300e+01 4.000e+01 4.500e+01 4.600e+01\n",
      " 3.800e+01 2.700e+02 3.700e+01 2.190e+02 1.850e+02 5.400e+01 5.800e+01\n",
      " 2.080e+02 5.500e+01 1.790e+02 2.030e+02 2.140e+02 2.390e+02 2.240e+02\n",
      " 1.860e+02 5.700e+01 5.660e+02 5.900e+01 4.900e+01 6.600e+01 2.200e+02\n",
      " 2.830e+02 2.730e+02 3.200e+02 3.660e+02 2.250e+02 2.920e+02 1.660e+02\n",
      " 2.800e+01 2.000e+01 2.400e+01 4.100e+01 2.600e+01 3.150e+02 2.360e+02\n",
      " 2.460e+02 3.200e+01 1.600e+01 2.900e+01 2.410e+02 2.050e+02 4.220e+02\n",
      " 3.170e+02 3.600e+02 2.060e+02 3.400e+02 7.200e+02 4.300e+01 2.860e+02\n",
      " 4.170e+02 2.100e+02 4.800e+01 4.700e+01 3.500e+01 2.670e+02 2.510e+02\n",
      " 1.400e+01 4.500e+02 3.100e+01 2.040e+02 1.900e+02 3.520e+02 2.000e+00\n",
      " 2.210e+02 3.400e+01 1.200e+01 2.370e+02 2.550e+02 3.900e+01 3.160e+02\n",
      " 2.130e+02 3.320e+02 1.500e+01 5.010e+02 5.520e+02 2.500e+02 2.450e+02\n",
      " 9.310e+02 3.990e+02 2.350e+02 9.250e+02 2.600e+02 2.230e+02 1.300e+01\n",
      " 7.000e+00 2.520e+02 3.000e+00 9.000e+00 4.420e+02 2.400e+02 2.640e+02\n",
      " 2.300e+02 3.450e+02 3.000e+02 2.200e+01 2.340e+02 3.570e+02 2.710e+02\n",
      " 1.100e+01 2.100e+01 3.380e+02 1.000e+01 1.000e+00 1.900e+01 2.150e+02\n",
      " 1.700e+01 4.100e+02 3.360e+02 4.000e+00 2.720e+02 2.810e+02 2.630e+02\n",
      " 2.890e+02 6.800e+02 3.600e+01 3.700e+02 8.740e+02 1.140e+03 4.000e+02\n",
      " 3.920e+02 4.850e+02 2.770e+02 6.000e+02 5.510e+02 2.880e+02 3.340e+02\n",
      " 2.440e+02 4.700e+02 2.910e+02 1.960e+02 1.256e+03 2.850e+02 2.330e+02\n",
      " 2.940e+02 2.820e+02 5.610e+02 2.650e+02 3.860e+02 8.770e+02 2.580e+02\n",
      " 5.400e+02 9.000e+02 2.320e+02 4.640e+02 2.110e+02 6.690e+02 4.760e+02\n",
      " 3.950e+02 2.900e+02 4.520e+02 3.130e+02 3.590e+02 5.000e+02 8.400e+02\n",
      " 5.850e+02 3.630e+02 4.400e+02 6.440e+02 3.890e+02 2.220e+02 5.430e+02\n",
      " 2.270e+02 4.680e+02 4.320e+02 2.680e+02 3.210e+02 5.230e+02 3.880e+02\n",
      " 3.500e+02 4.800e+02 3.110e+02 5.500e+02 4.630e+02 3.830e+02 4.360e+02\n",
      " 2.470e+02 3.530e+02 2.090e+02 3.060e+02 2.990e+02 3.490e+02 3.300e+02\n",
      " 7.050e+02 5.830e+02 2.750e+02 7.800e+02]\n"
     ]
    }
   ],
   "source": [
    "# Explorar los valores únicos en la columna 'runtime'\n",
    "unique_runtimes = merged_df['runtime'].unique()\n",
    "print(unique_runtimes)"
   ]
  },
  {
   "cell_type": "code",
   "execution_count": 106,
   "metadata": {},
   "outputs": [],
   "source": [
    "# Calcular el promedio de los valores no nulos en la columna 'runtime'\n",
    "average_runtime = merged_df['runtime'].mean()\n",
    "\n",
    "# Reemplazar los valores nulos en la columna 'runtime' con el promedio\n",
    "merged_df['runtime'] = merged_df['runtime'].fillna(average_runtime)"
   ]
  },
  {
   "attachments": {},
   "cell_type": "markdown",
   "metadata": {},
   "source": [
    "'''En el caso de la columna status, no hay mucha informacion para poder reemplazar adecuadamente en que estado son estan las peliculas que no tienen valores, asi que vamos a colocar como  valor desconocido'''"
   ]
  },
  {
   "cell_type": "code",
   "execution_count": 96,
   "metadata": {},
   "outputs": [
    {
     "name": "stdout",
     "output_type": "stream",
     "text": [
      "['Released' nan 'Rumored' 'Post Production' 'In Production' 'Planned'\n",
      " 'Canceled']\n"
     ]
    }
   ],
   "source": [
    "# Explorar los valores únicos en la columna 'status'\n",
    "unique_statuses = merged_df['status'].unique()\n",
    "print(unique_statuses)"
   ]
  },
  {
   "cell_type": "code",
   "execution_count": 107,
   "metadata": {},
   "outputs": [],
   "source": [
    "merged_df['status'] = merged_df['status'].fillna('Desconocido')"
   ]
  },
  {
   "attachments": {},
   "cell_type": "markdown",
   "metadata": {},
   "source": [
    "'''En el caso de las columnas  'collection_id' y 'collection_name' ' tagline' los valores nulos son significativos\n",
    "por lo cual vamos a eliminar esas columnas"
   ]
  },
  {
   "cell_type": "code",
   "execution_count": 102,
   "metadata": {},
   "outputs": [
    {
     "name": "stdout",
     "output_type": "stream",
     "text": [
      "[nan 'Roll the dice and unleash the excitement!'\n",
      " 'Still Yelling. Still Fighting. Still Ready for Love.' ...\n",
      " 'Meet...The CREEPER!'\n",
      " 'Do you know what happened 50 years before \"The Blair Witch Project\"?'\n",
      " 'A deadly game of wits.']\n"
     ]
    }
   ],
   "source": [
    "# Explorar los valores únicos en la columna 'tagline'\n",
    "unique_taglines = merged_df['tagline'].unique()\n",
    "print(unique_taglines)"
   ]
  },
  {
   "cell_type": "code",
   "execution_count": null,
   "metadata": {},
   "outputs": [],
   "source": [
    "#Eliminamos las columnas 'collection_id', 'collection_name', 'tagline'\n",
    "merged_df = merged_df.drop(['collection_id', 'collection_name', 'tagline'], axis=1)"
   ]
  },
  {
   "cell_type": "code",
   "execution_count": 114,
   "metadata": {},
   "outputs": [],
   "source": [
    "#guardamos nuestro dataset\n",
    "merged_df.to_csv('../datasets_crudos_CSV/credits_final.csv')"
   ]
  },
  {
   "cell_type": "code",
   "execution_count": 111,
   "metadata": {},
   "outputs": [
    {
     "data": {
      "text/html": [
       "<div>\n",
       "<style scoped>\n",
       "    .dataframe tbody tr th:only-of-type {\n",
       "        vertical-align: middle;\n",
       "    }\n",
       "\n",
       "    .dataframe tbody tr th {\n",
       "        vertical-align: top;\n",
       "    }\n",
       "\n",
       "    .dataframe thead th {\n",
       "        text-align: right;\n",
       "    }\n",
       "</style>\n",
       "<table border=\"1\" class=\"dataframe\">\n",
       "  <thead>\n",
       "    <tr style=\"text-align: right;\">\n",
       "      <th></th>\n",
       "      <th>movies_id</th>\n",
       "      <th>department</th>\n",
       "      <th>name_crew</th>\n",
       "      <th>gender_crew</th>\n",
       "      <th>job</th>\n",
       "      <th>name_cast</th>\n",
       "      <th>order</th>\n",
       "      <th>gender_cast</th>\n",
       "      <th>character_cast</th>\n",
       "    </tr>\n",
       "  </thead>\n",
       "  <tbody>\n",
       "    <tr>\n",
       "      <th>0</th>\n",
       "      <td>862.0</td>\n",
       "      <td>Directing</td>\n",
       "      <td>John Lasseter</td>\n",
       "      <td>2</td>\n",
       "      <td>Director</td>\n",
       "      <td>Tom Hanks</td>\n",
       "      <td>0</td>\n",
       "      <td>2</td>\n",
       "      <td>Woody (voice)</td>\n",
       "    </tr>\n",
       "    <tr>\n",
       "      <th>1</th>\n",
       "      <td>862.0</td>\n",
       "      <td>Directing</td>\n",
       "      <td>John Lasseter</td>\n",
       "      <td>2</td>\n",
       "      <td>Director</td>\n",
       "      <td>Tim Allen</td>\n",
       "      <td>1</td>\n",
       "      <td>2</td>\n",
       "      <td>Buzz Lightyear (voice)</td>\n",
       "    </tr>\n",
       "  </tbody>\n",
       "</table>\n",
       "</div>"
      ],
      "text/plain": [
       "  movies_id department      name_crew gender_crew       job  name_cast order  \\\n",
       "0     862.0  Directing  John Lasseter           2  Director  Tom Hanks     0   \n",
       "1     862.0  Directing  John Lasseter           2  Director  Tim Allen     1   \n",
       "\n",
       "  gender_cast          character_cast  \n",
       "0           2           Woody (voice)  \n",
       "1           2  Buzz Lightyear (voice)  "
      ]
     },
     "execution_count": 111,
     "metadata": {},
     "output_type": "execute_result"
    }
   ],
   "source": [
    "combined_df.head(2)"
   ]
  }
 ],
 "metadata": {
  "kernelspec": {
   "display_name": "Python 3",
   "language": "python",
   "name": "python3"
  },
  "language_info": {
   "codemirror_mode": {
    "name": "ipython",
    "version": 3
   },
   "file_extension": ".py",
   "mimetype": "text/x-python",
   "name": "python",
   "nbconvert_exporter": "python",
   "pygments_lexer": "ipython3",
   "version": "3.11.3"
  },
  "orig_nbformat": 4
 },
 "nbformat": 4,
 "nbformat_minor": 2
}
